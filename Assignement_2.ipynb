{
 "cells": [
  {
   "cell_type": "markdown",
   "metadata": {
    "id": "pf5SXa1XeBkI"
   },
   "source": [
    "# Assignement 2\n"
   ]
  },
  {
   "cell_type": "markdown",
   "metadata": {
    "id": "txLDhiheeJtw"
   },
   "source": [
    "Please do not change, delete or edit any cells. Write your code in between designated lines.\n",
    "\n"
   ]
  },
  {
   "cell_type": "markdown",
   "metadata": {
    "id": "pVXIH2TLfXYF"
   },
   "source": [
    "## Question 1 (10 points)"
   ]
  },
  {
   "cell_type": "code",
   "execution_count": 5,
   "metadata": {
    "id": "VS-FTxUHfclH"
   },
   "outputs": [
    {
     "name": "stdout",
     "output_type": "stream",
     "text": [
      "A\n",
      "g\n",
      "r\n",
      "i\n",
      "c\n",
      "u\n",
      "l\n",
      "t\n",
      "u\n",
      "r\n",
      "e\n"
     ]
    }
   ],
   "source": [
    "# Can your print the letters of Agriculture by using for loops. Your output will look like this:\n",
    "# A\n",
    "# g\n",
    "# r\n",
    "# i\n",
    "# c\n",
    "# u\n",
    "# l\n",
    "# t\n",
    "# u\n",
    "# r\n",
    "# e\n",
    "\n",
    "## Your code here - down ##\n",
    "word = \"Agriculture\"\n",
    "for letter in word:\n",
    "    print(letter)\n",
    "## Your code here - up ##\n"
   ]
  },
  {
   "cell_type": "markdown",
   "metadata": {
    "id": "rTT_VIPMefpk"
   },
   "source": [
    "## Question 2 (40 Points)"
   ]
  },
  {
   "cell_type": "code",
   "execution_count": 6,
   "metadata": {
    "id": "dQp85EhveEWB"
   },
   "outputs": [
    {
     "name": "stdout",
     "output_type": "stream",
     "text": [
      "1275\n"
     ]
    }
   ],
   "source": [
    "# Find the sum of numbers from 1 to 50(including) by using for loops.\n",
    "\n",
    "## Your code here - down ##\n",
    "sum_of_numbers = 0\n",
    "for n in range(1,51):\n",
    "    sum_of_numbers += n\n",
    "print(sum_of_numbers)\n",
    "## Your code here - up ##"
   ]
  },
  {
   "cell_type": "markdown",
   "metadata": {
    "id": "gijHHMnjgZPy"
   },
   "source": [
    "## Question 3 (50 points)"
   ]
  },
  {
   "cell_type": "code",
   "execution_count": 7,
   "metadata": {
    "id": "IXBo2RM2gYPR"
   },
   "outputs": [
    {
     "name": "stdout",
     "output_type": "stream",
     "text": [
      "Sum of even numbers is : 650\n"
     ]
    }
   ],
   "source": [
    "# Now let's find sum of even and odd numbers from 1 to 50 (including). Are the results same?\n",
    "\n",
    "# Sum of even  numbers\n",
    "\n",
    "## Your code here - down ##\n",
    "sum_of_even_numbers = 0\n",
    "for n in range(2,51,2):\n",
    "    sum_of_even_numbers += n\n",
    "print(\"Sum of even numbers is :\", sum_of_even_numbers)\n",
    "## Your code here - up ##"
   ]
  },
  {
   "cell_type": "code",
   "execution_count": 8,
   "metadata": {
    "id": "xQh-bx6ohCe-"
   },
   "outputs": [
    {
     "name": "stdout",
     "output_type": "stream",
     "text": [
      "Sum of odd numbers is : 625\n"
     ]
    }
   ],
   "source": [
    "# Sum of odd numbers\n",
    "\n",
    "## Your code here - down ##\n",
    "sum_of_odd_numbers = 0\n",
    "for n in range(1,51,2):\n",
    "    sum_of_odd_numbers += n\n",
    "print(\"Sum of odd numbers is :\", sum_of_odd_numbers)\n",
    "## Your code here - up ##"
   ]
  },
  {
   "cell_type": "code",
   "execution_count": 7,
   "metadata": {
    "id": "OeIXVOYThLbA"
   },
   "outputs": [],
   "source": [
    "# In this cell explain the difference.\n",
    "\n",
    "#To get the sum of the even numbers, we have to start the input range with the first even number, which is 2, \n",
    "#and increment by 2 to get to the next even number,\n",
    "#while to get the sum of the odd numbers we have to start from the first odd number, which is 1,\n",
    "#and then increment by 2 to get to the next odd number."
   ]
  }
 ],
 "metadata": {
  "colab": {
   "provenance": []
  },
  "kernelspec": {
   "display_name": "Python 3 (ipykernel)",
   "language": "python",
   "name": "python3"
  },
  "language_info": {
   "codemirror_mode": {
    "name": "ipython",
    "version": 3
   },
   "file_extension": ".py",
   "mimetype": "text/x-python",
   "name": "python",
   "nbconvert_exporter": "python",
   "pygments_lexer": "ipython3",
   "version": "3.9.13"
  }
 },
 "nbformat": 4,
 "nbformat_minor": 1
}
