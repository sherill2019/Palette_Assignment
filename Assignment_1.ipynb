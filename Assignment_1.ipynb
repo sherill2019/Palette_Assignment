{
 "cells": [
  {
   "cell_type": "markdown",
   "metadata": {
    "id": "pkIv6ki2IEPX"
   },
   "source": [
    "# Assignement 1"
   ]
  },
  {
   "cell_type": "markdown",
   "metadata": {
    "id": "uPzTokrsLSZ9"
   },
   "source": [
    "Please **do not** change, delete or edit any cells. Write your code in between designated lines."
   ]
  },
  {
   "cell_type": "markdown",
   "metadata": {
    "id": "qZaWKGXcJFuj"
   },
   "source": [
    "#### Question 1 (5 points)"
   ]
  },
  {
   "cell_type": "code",
   "execution_count": 1,
   "metadata": {
    "id": "N-i0sQmcId4W"
   },
   "outputs": [],
   "source": [
    "# Here execute the following sentence - string \"I will be a data scientist\" by using print() function.\n",
    "\n",
    "## Your code here - down ##\n",
    "print(\"I will be a data scientist\")\n",
    "## Your code here - up ##"
   ]
  },
  {
   "cell_type": "markdown",
   "metadata": {
    "id": "XyeAqdgIJUUh"
   },
   "source": [
    "#### Question 2 (10 points)"
   ]
  },
  {
   "cell_type": "code",
   "execution_count": 2,
   "metadata": {
    "id": "y_BX1T8sJS9U"
   },
   "outputs": [],
   "source": [
    "# Assign a and b variables respectively with 10 and 12, then print sum of these two variables.\n",
    "\n",
    "## Your code here - down ##\n",
    "a = 10\n",
    "b = 12\n",
    "print(a+b)\n",
    "## Your code here - up ##"
   ]
  },
  {
   "cell_type": "markdown",
   "metadata": {
    "id": "wWP7OJtQKTNT"
   },
   "source": [
    "Question 3 (20 Points)"
   ]
  },
  {
   "cell_type": "code",
   "execution_count": 3,
   "metadata": {
    "id": "FoCDtEylKPjY"
   },
   "outputs": [],
   "source": [
    "# So we assigned a and b in the above cell. Let's write a code that print \n",
    "# \"a is greater b\" or \"a is less than b\" \n",
    "# by using Python's conditional statement (if - else). Please see training_1.\n",
    "\n",
    "## Your code here - down ##\n",
    "if a > b:\n",
    "    print(\"a is greater than b\")\n",
    "else:\n",
    "    print(\"a is less than b\")\n",
    "## Your code here - up ##"
   ]
  },
  {
   "cell_type": "markdown",
   "metadata": {
    "id": "H5VZWM1lMIF4"
   },
   "source": [
    "#### Question 4 (40 points)"
   ]
  },
  {
   "cell_type": "code",
   "execution_count": 4,
   "metadata": {
    "id": "dfPaZrkGMNRa"
   },
   "outputs": [],
   "source": [
    "# We built a function - canola_convertion () to convert pounds to bushel for canola. \n",
    "# We added if and else conditional statement to this function\n",
    "# to print \"Yield was better this year\" in case Canola yield per acre was greater than 45 (Please see Training_1 file). \n",
    "# But now, we will use wheat instead of canola. Please give an example of 2400 pounds and convert it to bushels and\n",
    "# print if the year was good or bad. \n",
    "\n",
    "## Your code here - down ##\n",
    "\n",
    "#weight - yield per acre in pounds\n",
    "#unit - 1 bushel 60 pounds\n",
    "\n",
    "def wheat_conversion(wheat_weight, unit):\n",
    "    bushel_per_acre = wheat_weight/unit\n",
    "    if bushel_per_acre > 45:\n",
    "        print('Yield was better this year: ')\n",
    "    else:\n",
    "        print('Yield was not good this year: ')\n",
    "    return bushel_per_acre\n",
    "\n",
    "wheat_conversion(2400, 60)\n",
    "## Your code here - up ##"
   ]
  },
  {
   "cell_type": "markdown",
   "metadata": {
    "id": "XAECT2JJOlmA"
   },
   "source": [
    "#### Question 5 (25 points)"
   ]
  },
  {
   "cell_type": "code",
   "execution_count": 5,
   "metadata": {
    "id": "Hn9rzk2GOr6c"
   },
   "outputs": [],
   "source": [
    "# Assign list that contains even numbers from 1 to 10. Then add apple word to the list. \n",
    "# It will look like 'apple' in the list. \n",
    "\n",
    "## Your code here - down ##\n",
    "list1 = [2,4,6,8,10]\n",
    "list1.append(\"apple\")\n",
    "print(list1)\n",
    "## Your code here - up ##"
   ]
  },
  {
   "cell_type": "code",
   "execution_count": 6,
   "metadata": {
    "id": "hHYeNRHOPqX2"
   },
   "outputs": [],
   "source": [
    "# Now it is time to delete 'apple' word from the list. It looks weird there.\n",
    "\n",
    "## Your code here - down ##\n",
    "list1.pop()\n",
    "print(list1)\n",
    "## Your code here - up ##"
   ]
  },
  {
   "cell_type": "code",
   "execution_count": 7,
   "metadata": {
    "id": "cr2F3ZWNP3Wv"
   },
   "outputs": [],
   "source": [
    "# Can you print 6 only from the list? If yes, please show in the codes.\n",
    "\n",
    "## Your code here - down ##\n",
    "print(list1[2])\n",
    "## Your code here - up ##"
   ]
  },
  {
   "cell_type": "markdown",
   "metadata": {
    "id": "a6NObJGmQWaD"
   },
   "source": [
    "END OF ASSIGNEMNT\n",
    "\n",
    "Thank you!"
   ]
  }
 ],
 "metadata": {
  "colab": {
   "provenance": []
  },
  "kernelspec": {
   "display_name": "Python 3 (ipykernel)",
   "language": "python",
   "name": "python3"
  },
  "language_info": {
   "codemirror_mode": {
    "name": "ipython",
    "version": 3
   },
   "file_extension": ".py",
   "mimetype": "text/x-python",
   "name": "python",
   "nbconvert_exporter": "python",
   "pygments_lexer": "ipython3",
   "version": "3.9.13"
  }
 },
 "nbformat": 4,
 "nbformat_minor": 1
}
