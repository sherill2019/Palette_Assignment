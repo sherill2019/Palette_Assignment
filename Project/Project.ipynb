{
 "cells": [
  {
   "cell_type": "code",
   "execution_count": null,
   "id": "8db19a02",
   "metadata": {},
   "outputs": [],
   "source": [
    "import numpy as np\n",
    "import pandas as pd\n",
    "import statsmodels.api as sm\n",
    "import matplotlib.pyplot as plt\n",
    "import geopandas as gpd\n",
    "import seaborn as sb\n",
    "plt.rcParams['figure.figsize'] = (20, 12)"
   ]
  },
  {
   "cell_type": "markdown",
   "id": "b4d588ae",
   "metadata": {},
   "source": [
    "# ETL (extract, transform, load)"
   ]
  },
  {
   "cell_type": "markdown",
   "id": "59012408",
   "metadata": {},
   "source": [
    "## load csv, shp file"
   ]
  },
  {
   "cell_type": "code",
   "execution_count": null,
   "id": "83ec482f",
   "metadata": {},
   "outputs": [],
   "source": [
    "#load into main df_csv\n",
    "df_csv = pd.read_csv('rm_crop_yields_1938_2021.csv')"
   ]
  },
  {
   "cell_type": "code",
   "execution_count": null,
   "id": "2ba70ac3",
   "metadata": {},
   "outputs": [],
   "source": [
    "df_csv.info()"
   ]
  },
  {
   "cell_type": "code",
   "execution_count": null,
   "id": "d023b852",
   "metadata": {},
   "outputs": [],
   "source": [
    "df_csv.rename(columns={\"Winter Wheat\": \"WinterWheat\", \"Spring Wheat\": \"SpringWheat\",\"Fall Rye\":\"FallRye\",\\\n",
    "             \"Canary Seed\":\"CanarySeed\",\"Spring Rye\":\"SpringRye\",\"Tame Hay\":\"TameHay\"},inplace=True)"
   ]
  },
  {
   "cell_type": "code",
   "execution_count": null,
   "id": "551a78f7",
   "metadata": {},
   "outputs": [],
   "source": [
    "#https://saskpulse.com\n",
    "#https://www.rayglen.com/grain-conversion-calculator/\n",
    "# (lbs/ac) -> Mustard (50 lbs/bu), Sunflower (30 lbs/bu), Lentils (60 lbs/bu), \n",
    "#             Canary Seeed (50 lbs/bu), Chickpeas (60lb/bu)\n",
    "\n",
    "# Tame Hay (tons/ac)\n",
    "# All the rest are bushel/acre (bu/ac)\n",
    "df_csv['Mustard']=df_csv['Mustard']/50\n",
    "df_csv['Sunflowers']=df_csv['Sunflowers']/30\n",
    "df_csv['Lentils']=df_csv['Lentils']/60\n",
    "df_csv['CanarySeed']=df_csv['CanarySeed']/50\n",
    "df_csv['Chickpeas']=df_csv['Chickpeas']/60"
   ]
  },
  {
   "cell_type": "code",
   "execution_count": null,
   "id": "0e1ac269",
   "metadata": {},
   "outputs": [],
   "source": [
    "#load shp data\n",
    "gdf = gpd.read_file('Rural Municipality.shp')\n",
    "\n",
    "#drop columns that won't be using\n",
    "gdf.drop(['PPID','EFFDT','EXPDT','FEATURECD','SHAPE_AREA','SHAPE_LEN'],axis=1,inplace=True)\n",
    "\n",
    "#rename column to match with main df\n",
    "gdf.rename(columns=\n",
    "{   'RMNO': 'RM',\n",
    "    'RMNM': 'Municipality'\n",
    "}, inplace=True)\n",
    "\n",
    "#match data type between df_csv and gdf\n",
    "gdf['RM']=gdf['RM'].astype('int')\n",
    "gdf['Municipality']=gdf['Municipality'].astype('string')\n",
    "\n"
   ]
  },
  {
   "cell_type": "code",
   "execution_count": null,
   "id": "da94acba",
   "metadata": {},
   "outputs": [],
   "source": [
    "gdf.info()"
   ]
  },
  {
   "cell_type": "markdown",
   "id": "f29916bd",
   "metadata": {},
   "source": [
    "# EDA (Extrapolatory Data Analysis)"
   ]
  },
  {
   "cell_type": "markdown",
   "id": "1a9dd2e2",
   "metadata": {},
   "source": [
    "#### check for unique values"
   ]
  },
  {
   "cell_type": "code",
   "execution_count": null,
   "id": "c394ece9",
   "metadata": {},
   "outputs": [],
   "source": [
    "gdf['RM'].unique()\n",
    "gdf['RM'].nunique()\n",
    "#298 unique RM"
   ]
  },
  {
   "cell_type": "markdown",
   "id": "bf9f3279",
   "metadata": {},
   "source": [
    "#### check for duplicated values"
   ]
  },
  {
   "cell_type": "code",
   "execution_count": null,
   "id": "eb0783ff",
   "metadata": {},
   "outputs": [],
   "source": [
    "gdf.duplicated().sum()"
   ]
  },
  {
   "cell_type": "code",
   "execution_count": null,
   "id": "7adc2e5f",
   "metadata": {
    "scrolled": true
   },
   "outputs": [],
   "source": [
    "df_describe = df_csv.describe().copy()\n",
    "df_describe\n",
    "# Total of 25017 rows\n",
    "# Year from 1938 to 2021 ~ 84 years\n",
    "# 299 RM from 1 to 622 \n",
    "# Spring Wheat, Barley and Oats have the most rows -> more complete data?\n",
    "# Oats, Winter Wheat, Barley has the most mean -> most yield\n",
    "# Tame Hay, Spring Rye, Flax have the least mean -> least yield\n"
   ]
  },
  {
   "cell_type": "code",
   "execution_count": null,
   "id": "660bb191",
   "metadata": {},
   "outputs": [],
   "source": [
    "#count unique RM\n",
    "df_csv['RM'].unique()\n",
    "df_csv['RM'].nunique()"
   ]
  },
  {
   "cell_type": "code",
   "execution_count": null,
   "id": "8b23eaa3",
   "metadata": {},
   "outputs": [],
   "source": [
    "#check for duplicated rows\n",
    "df_csv.duplicated().sum()"
   ]
  },
  {
   "cell_type": "code",
   "execution_count": null,
   "id": "34fe012c",
   "metadata": {},
   "outputs": [],
   "source": [
    "#check how many records there are each year\n",
    "#-->not all have data for all years\n",
    "temp_df= df_csv.groupby('Year').count()['RM']\n",
    "temp_df = temp_df[temp_df!=299]\n",
    "temp_df"
   ]
  },
  {
   "cell_type": "code",
   "execution_count": null,
   "id": "afaf21fd",
   "metadata": {},
   "outputs": [],
   "source": [
    "#check for RM with less than 84 years of data\n",
    "temp_df= df_csv.groupby('RM').count()['Year']\n",
    "temp_df = temp_df[temp_df!=84]\n",
    "temp_df"
   ]
  },
  {
   "cell_type": "code",
   "execution_count": null,
   "id": "9ad0ae18",
   "metadata": {},
   "outputs": [],
   "source": [
    "#Municipality with less than 84 years of data\n",
    "\n",
    "pd.merge(temp_df,gdf,on='RM')"
   ]
  },
  {
   "cell_type": "code",
   "execution_count": null,
   "id": "1ae5f09e",
   "metadata": {},
   "outputs": [],
   "source": [
    "#check for RM not in geodata\n",
    "\n",
    "temp_df= df_csv.groupby('RM').count().index\n",
    "temp_df = temp_df[~temp_df.isin(gdf['RM'])]\n",
    "temp_df\n",
    "\n",
    "#278 Kutawa, Prairie No. 408, Greenfield No. 529"
   ]
  },
  {
   "cell_type": "code",
   "execution_count": null,
   "id": "0573023e",
   "metadata": {},
   "outputs": [],
   "source": [
    "#check for geodata RM not in main data set\n",
    "\n",
    "temp_df= df_csv.groupby('RM').count().index\n",
    "temp_gdf = gdf[~gdf['RM'].isin(temp_df)]\n",
    "temp_gdf\n"
   ]
  },
  {
   "cell_type": "markdown",
   "id": "95f5bf52",
   "metadata": {},
   "source": [
    "# Feature Selection"
   ]
  },
  {
   "cell_type": "code",
   "execution_count": null,
   "id": "c226e4ae",
   "metadata": {},
   "outputs": [],
   "source": [
    "sb.heatmap(\n",
    "    df_csv.corr(),\n",
    "    annot=True)\n",
    "\n",
    "#Strong correlation between Canola and Spring Wheat, Durum, Oats, Peas, Barley, Flax\n",
    "#Strong correlation between Spring Wheat and Barley, Canola, Durun, Oats, Flax\n",
    "#Strong correlation between Durum and Spring Wheat, Barley, Flax\n",
    "#Strong correlation between Sunflower and Tame Hay\n",
    "#Strong correlation between Oats and Spring Wheat, Durumn, Barley, Flax\n",
    "#Strong correlation between Peas and Canola, Spring Wheat, Barley\n",
    "#Strong correlation between Barley and Oats, Canola, Spring Wheat, Barley, Fall Rye, Flax\n",
    "#Strong correlation between Fall Rye and Spring Wheat, Barley, Flax\n",
    "#Strong correlation between Tame Hay and Sunflowers\n",
    "#Flax and Spring Wheat, Oats, Barley, Canola, Durum"
   ]
  },
  {
   "cell_type": "code",
   "execution_count": null,
   "id": "92903588",
   "metadata": {},
   "outputs": [],
   "source": [
    "#Average yield per Crop across all years (mean)\n",
    "fig=df_describe.iloc[1, 2:18].sort_values(axis=0).plot(kind='barh',xlabel ='Yield(bu/acre)', figsize=(4,4),title='Crop Yield (1938 - 2021)').get_figure()\n",
    "fig.savefig('fig1- Crop Yield 1938 to 2021 (mean).jpg')"
   ]
  },
  {
   "cell_type": "code",
   "execution_count": null,
   "id": "49b9d7af",
   "metadata": {},
   "outputs": [],
   "source": [
    "df_csv.isna().sum().plot(kind='bar')"
   ]
  },
  {
   "cell_type": "code",
   "execution_count": null,
   "id": "86ca5fa6",
   "metadata": {},
   "outputs": [],
   "source": [
    "temp_df= df_csv.groupby('Year').mean()\n",
    "temp_df.index = pd.to_datetime(temp_df.index, format='%Y')\n",
    "temp_df[['WinterWheat']].plot(xlim=[pd.Timestamp('1938-01-01'), pd.Timestamp('2021-01-01')])\n"
   ]
  },
  {
   "cell_type": "code",
   "execution_count": null,
   "id": "09f5f68f",
   "metadata": {},
   "outputs": [],
   "source": [
    "# Total Crop Yield per Year\n",
    "df_total_per_year = df_csv.copy()\n",
    "df_total_per_year.drop('RM',axis=1,inplace=True)\n",
    "df_total_per_year = df_total_per_year.groupby('Year').sum()\n",
    "df_total_per_year['Total'] = df_total_per_year.iloc[:,1:16].sum(axis=1)"
   ]
  },
  {
   "cell_type": "code",
   "execution_count": null,
   "id": "390c806e",
   "metadata": {
    "scrolled": true
   },
   "outputs": [],
   "source": [
    "df_total_per_year.sort_values('Total',ascending=False)"
   ]
  },
  {
   "cell_type": "code",
   "execution_count": null,
   "id": "f5c15657",
   "metadata": {},
   "outputs": [],
   "source": [
    "fig = df_total_per_year.plot(y=[\"Total\"], kind=\"bar\", ylabel = 'Yield (bu/acre)', figsize=(10, 10), title = 'Total Crop Yield per Year').get_figure()\n",
    "fig.savefig('fig2 - Total Crop per Year.jpg')"
   ]
  },
  {
   "cell_type": "code",
   "execution_count": null,
   "id": "b74da537",
   "metadata": {
    "scrolled": true
   },
   "outputs": [],
   "source": [
    "#Total Crop per Year per Crop\n",
    "fig = df_total_per_year.iloc[:,0:16].plot(ylabel = 'Yield (bu/acre)', figsize=(10, 10), title = 'Crop Yield per Year').get_figure()\n",
    "fig.savefig('fig3 - Crop Yield per Year.jpg')"
   ]
  },
  {
   "cell_type": "code",
   "execution_count": null,
   "id": "d34de7ad",
   "metadata": {},
   "outputs": [],
   "source": [
    "df_total_mean_per_RM = df_csv.copy()\n",
    "df_total_mean_per_RM = df_total_mean_per_RM.groupby(['RM']).mean()\n",
    "df_total_mean_per_RM.drop('Year',axis=1,inplace=True)\n",
    "df_total_mean_per_RM['Total'] = df_total_mean_per_RM.iloc[:,0:16].sum(axis=1)\n",
    "\n",
    "fig=df_total_mean_per_RM.iloc[:,0:16].plot(ylabel = 'Yield (bu/acre)', figsize=(10, 10), title = 'Crop Yield per RM (1938 - 2021)').get_figure()\n",
    "fig.savefig('Total Mean per RM.jpg')"
   ]
  },
  {
   "cell_type": "code",
   "execution_count": null,
   "id": "1c3c3086",
   "metadata": {},
   "outputs": [],
   "source": [
    "df_total_sum_per_RM = df_csv.copy()\n",
    "df_total_sum_per_RM = df_total_sum_per_RM.groupby(['RM']).sum()\n",
    "df_total_sum_per_RM.drop('Year',axis=1,inplace=True)\n",
    "df_total_sum_per_RM['Total'] = df_total_sum_per_RM.iloc[:,0:16].sum(axis=1)\n",
    "\n",
    "fig=df_total_sum_per_RM.iloc[:,0:16].plot(ylabel = 'Yield (bu/acre)', figsize=(10, 10), title = 'Crop Yield per RM (1938 - 2021)').get_figure()\n",
    "fig.savefig('Total Sum per RM.jpg')"
   ]
  },
  {
   "cell_type": "code",
   "execution_count": null,
   "id": "a1626780",
   "metadata": {},
   "outputs": [],
   "source": [
    "#df_yr_best_crop = (df_total_per_year.iloc[:,0:16].idxmax(1)).to_frame()\n",
    "#df_yr_best_crop.rename(columns={0:'Crop'},inplace=True)\n",
    "#df_yr_best_crop.reset_index(inplace=True)\n",
    "#df_yr_best_crop\n",
    "#pd.merge(df_total_per_year,df_yr_best_crop,on='Year').plot(x='Year',y=)\n",
    "#df_yr_best_crop = \n",
    "\n",
    "df_yr_best_crop = (df_total_per_year.iloc[:,0:16]).sort_values(by=1, ascending=False, axis=1)"
   ]
  },
  {
   "cell_type": "markdown",
   "id": "44970f54",
   "metadata": {},
   "source": [
    "## 20 year period snap shots"
   ]
  },
  {
   "cell_type": "code",
   "execution_count": null,
   "id": "ada3cc51",
   "metadata": {},
   "outputs": [],
   "source": [
    "#df_total_per_RM_38to60\n",
    "df_total_per_RM_38to60 = df_csv[df_csv['Year'].isin(range(1938,1960))]\n",
    "df_total_per_RM_38to60 = df_total_per_RM_38to60.groupby(['RM']).mean()\n",
    "df_total_per_RM_38to60.drop('Year',axis=1,inplace=True)\n",
    "df_total_per_RM_38to60['Total'] = df_total_per_RM_38to60.iloc[:,0:16].sum(axis=1)\n"
   ]
  },
  {
   "cell_type": "code",
   "execution_count": null,
   "id": "bea16ec5",
   "metadata": {},
   "outputs": [],
   "source": [
    "m=gpd.GeoDataFrame(pd.merge(\n",
    "    df_total_per_RM_38to60,\n",
    "    gdf,\n",
    "    on='RM'\n",
    ")).explore(\n",
    "    column='Total', tooltip = ['Municipality','Total']\n",
    ")\n",
    "\n",
    "m.save(\"RMMean38to60.html\")"
   ]
  },
  {
   "cell_type": "code",
   "execution_count": null,
   "id": "31f332f2",
   "metadata": {},
   "outputs": [],
   "source": [
    "#df_total_per_RM_61to80\n",
    "df_total_per_RM_61to80 = df_csv[df_csv['Year'].isin(range(1961,1980))]\n",
    "df_total_per_RM_61to80 = df_total_per_RM_61to80.groupby(['RM']).mean()\n",
    "df_total_per_RM_61to80.drop('Year',axis=1,inplace=True)\n",
    "df_total_per_RM_61to80['Total'] = df_total_per_RM_61to80.iloc[:,0:16].sum(axis=1)\n"
   ]
  },
  {
   "cell_type": "code",
   "execution_count": null,
   "id": "e28685da",
   "metadata": {},
   "outputs": [],
   "source": [
    "m=gpd.GeoDataFrame(pd.merge(\n",
    "    df_total_per_RM_61to80,\n",
    "    gdf,\n",
    "    on='RM'\n",
    ")).explore(\n",
    "    column='Total', tooltip = ['Municipality','Total']\n",
    ")\n",
    "m.save(\"RMMean61to80.html\")"
   ]
  },
  {
   "cell_type": "code",
   "execution_count": null,
   "id": "3cc8ac2d",
   "metadata": {},
   "outputs": [],
   "source": [
    "#df_total_per_RM_81to00\n",
    "df_total_per_RM_81to00 = df_csv[df_csv['Year'].isin(range(1981,2000))]\n",
    "df_total_per_RM_81to00 = df_total_per_RM_81to00.groupby(['RM']).mean()\n",
    "df_total_per_RM_81to00.drop('Year',axis=1,inplace=True)\n",
    "df_total_per_RM_81to00['Total'] = df_total_per_RM_81to00.iloc[:,0:16].sum(axis=1)\n"
   ]
  },
  {
   "cell_type": "code",
   "execution_count": null,
   "id": "8c2e1c54",
   "metadata": {},
   "outputs": [],
   "source": [
    "m=gpd.GeoDataFrame(pd.merge(\n",
    "    df_total_per_RM_81to00,\n",
    "    gdf,\n",
    "    on='RM'\n",
    ")).explore(\n",
    "    column='Total', tooltip = ['Municipality','Total']\n",
    ")\n",
    "m.save(\"RMMean81to00.html\")"
   ]
  },
  {
   "cell_type": "code",
   "execution_count": null,
   "id": "f87e4857",
   "metadata": {},
   "outputs": [],
   "source": [
    "\n",
    "#df_total_per_RM_01to21\n",
    "df_total_per_RM_01to21 = df_csv[df_csv['Year'].isin(range(2001,2021))]\n",
    "df_total_per_RM_01to21 = df_total_per_RM_01to21.groupby(['RM']).mean()\n",
    "df_total_per_RM_01to21.drop('Year',axis=1,inplace=True)\n",
    "df_total_per_RM_01to21['Total'] = df_total_per_RM_01to21.iloc[:,0:16].sum(axis=1)\n"
   ]
  },
  {
   "cell_type": "code",
   "execution_count": null,
   "id": "ceabef9d",
   "metadata": {},
   "outputs": [],
   "source": [
    "m=gpd.GeoDataFrame(pd.merge(\n",
    "    df_total_per_RM_01to21,\n",
    "    gdf,\n",
    "    on='RM'\n",
    ")).explore(\n",
    "    column='Total', tooltip = ['Municipality','Total']\n",
    ")\n",
    "m.save(\"RMMean01to21.html\")"
   ]
  },
  {
   "cell_type": "markdown",
   "id": "11ee3e20",
   "metadata": {},
   "source": [
    "## 10 year period snapshot from 2001 to 2021"
   ]
  },
  {
   "cell_type": "code",
   "execution_count": null,
   "id": "84e591ff",
   "metadata": {},
   "outputs": [],
   "source": [
    "#df_total_per_RM_01to21\n",
    "df_total_per_RM_01to10 = df_csv[df_csv['Year'].isin(range(2001,2010))]\n",
    "df_total_per_RM_01to10 = df_total_per_RM_01to10.groupby(['RM']).mean()\n",
    "df_total_per_RM_01to10.drop('Year',axis=1,inplace=True)\n",
    "df_total_per_RM_01to10['Total'] = df_total_per_RM_01to10.iloc[:,0:16].sum(axis=1)\n"
   ]
  },
  {
   "cell_type": "code",
   "execution_count": null,
   "id": "adf9bbad",
   "metadata": {},
   "outputs": [],
   "source": [
    "m=gpd.GeoDataFrame(pd.merge(\n",
    "    df_total_per_RM_01to10,\n",
    "    gdf,\n",
    "    on='RM'\n",
    ")).explore(\n",
    "    column='Total', tooltip = ['Municipality','Total']\n",
    ")\n",
    "m.save(\"RMMean01to10.html\")"
   ]
  },
  {
   "cell_type": "code",
   "execution_count": null,
   "id": "dce14632",
   "metadata": {},
   "outputs": [],
   "source": [
    "#df_total_per_RM_01to21\n",
    "df_total_per_RM_11to21 = df_csv[df_csv['Year'].isin(range(2011,2021))]\n",
    "df_total_per_RM_11to21 = df_total_per_RM_11to21.groupby(['RM']).mean()\n",
    "df_total_per_RM_11to21.drop('Year',axis=1,inplace=True)\n",
    "df_total_per_RM_11to21['Total'] = df_total_per_RM_11to21.iloc[:,0:16].sum(axis=1)\n"
   ]
  },
  {
   "cell_type": "code",
   "execution_count": null,
   "id": "a91ff5ea",
   "metadata": {},
   "outputs": [],
   "source": [
    "m=gpd.GeoDataFrame(pd.merge(\n",
    "    df_total_per_RM_11to21,\n",
    "    gdf,\n",
    "    on='RM'\n",
    ")).explore(\n",
    "    column='Total', tooltip = ['Municipality','Total']\n",
    ")\n",
    "m.save(\"RMMean11to21.html\")"
   ]
  },
  {
   "cell_type": "code",
   "execution_count": null,
   "id": "971d7e28",
   "metadata": {},
   "outputs": [],
   "source": [
    "#fig = df_total_per_RM_11to21.plot(kind='bar', stacked=True, figsize = (16,8))"
   ]
  },
  {
   "cell_type": "code",
   "execution_count": null,
   "id": "2d150966",
   "metadata": {},
   "outputs": [],
   "source": [
    "#df_RM_Marker = df_total_per_RM_11to21[df_total_per_RM_11to21.index.isin(df_total_per_RM_11to21.nlargest(10,'Total').index)]\n",
    "#df_total_per_RM['Marker'] = df_total_per_RM['RM'].apply(lambda x: 'circle' if x in df_RM_Marker['RM'] else 'marker')"
   ]
  },
  {
   "cell_type": "markdown",
   "id": "bd8f42aa",
   "metadata": {},
   "source": [
    "\n",
    "#gpd.GeoDataFrame(pd.merge(\n",
    "    df_RM_Marker,\n",
    "    gdf,\n",
    "    on='RM'\n",
    ")).explore(\n",
    "    m=m, marker_type=\"circle\")\n"
   ]
  },
  {
   "cell_type": "markdown",
   "id": "7650dd09",
   "metadata": {},
   "source": [
    "df_total_per_RM_11to21.nlargest(10,'Total')"
   ]
  },
  {
   "cell_type": "markdown",
   "id": "17e68e8c",
   "metadata": {},
   "source": [
    "df_total_RM_top10 = df_total_per_RM_11to21.nlargest(10,'Total')"
   ]
  },
  {
   "cell_type": "markdown",
   "id": "5e11e35b",
   "metadata": {},
   "source": [
    "df_total_RM_top10.iloc[:,0:16].plot(kind='bar', stacked=True, figsize = (16,8))"
   ]
  },
  {
   "cell_type": "markdown",
   "id": "79838231",
   "metadata": {},
   "source": [
    "df_total_per_Year_11to21 = df_csv[df_csv['Year'].isin(range(2011,2021))]\n",
    "df_total_per_Year_11to21 = df_total_per_Year_11to21.groupby(['Year']).mean()\n",
    "df_total_per_Year_11to21.drop('RM',axis=1,inplace=True)\n",
    "df_total_per_Year_11to21['Total'] = df_total_per_Year_11to21.iloc[:,0:16].sum(axis=1)\n"
   ]
  },
  {
   "cell_type": "markdown",
   "id": "ffaeff58",
   "metadata": {},
   "source": [
    "df_total_per_Year_11to21.sum()"
   ]
  },
  {
   "cell_type": "markdown",
   "id": "866d165b",
   "metadata": {},
   "source": [
    "gpd.GeoDataFrame(pd.merge(\n",
    "    df_total_RM_top10,\n",
    "    gdf,\n",
    "    on='RM'\n",
    ")).explore(\n",
    "    column='Total', tooltip = ['Municipality','Total']\n",
    ")"
   ]
  },
  {
   "cell_type": "markdown",
   "id": "1b60ad46",
   "metadata": {},
   "source": [
    "fig=df_total_per_Year_11to21.iloc[:,0:16].plot().get_figure()\n",
    "fig.savefig(\"Toal Crop Yield per Year 2011 to 21\")"
   ]
  },
  {
   "cell_type": "markdown",
   "id": "dcd536ff",
   "metadata": {},
   "source": [
    "df_total_per_RM_11to21.nlargest(10,'Chickpeas')"
   ]
  },
  {
   "cell_type": "markdown",
   "id": "b9bf19cb",
   "metadata": {},
   "source": [
    "gpd.GeoDataFrame(pd.merge(\n",
    "    df_total_per_RM_11to21.nlargest(10,'Chickpeas'),\n",
    "    gdf,\n",
    "    on='RM'\n",
    ")).explore(\n",
    "    column='Total', tooltip = ['Municipality','Total']\n",
    ")"
   ]
  },
  {
   "cell_type": "markdown",
   "id": "826dc1df",
   "metadata": {},
   "source": [
    "gpd.GeoDataFrame(pd.merge(\n",
    "    df_total_per_RM_11to21.nlargest(10,'Lentils'),\n",
    "    gdf,\n",
    "    on='RM'\n",
    ")).explore(\n",
    "    column='Total', tooltip = ['Municipality','Total']\n",
    ")"
   ]
  },
  {
   "cell_type": "markdown",
   "id": "035f045b",
   "metadata": {},
   "source": [
    "gpd.GeoDataFrame(pd.merge(\n",
    "    df_total_per_RM_11to21.nlargest(10,'Canola'),\n",
    "    gdf,\n",
    "    on='RM'\n",
    ")).explore(\n",
    "    column='Total', tooltip = ['Municipality','Total']\n",
    ")"
   ]
  },
  {
   "cell_type": "markdown",
   "id": "5c4a1848",
   "metadata": {},
   "source": [
    "gpd.GeoDataFrame(pd.merge(\n",
    "    df_total_per_RM_11to21.nlargest(10,'Mustard'),\n",
    "    gdf,\n",
    "    on='RM'\n",
    ")).explore(\n",
    "    column='Total', tooltip = ['Municipality','Total']\n",
    ")"
   ]
  },
  {
   "cell_type": "markdown",
   "id": "3d232f2a",
   "metadata": {},
   "source": [
    "## Clustering"
   ]
  },
  {
   "cell_type": "code",
   "execution_count": null,
   "id": "5a755a7d",
   "metadata": {},
   "outputs": [],
   "source": [
    "new_df = df_csv[df_csv['Year']>=2011].copy()"
   ]
  },
  {
   "cell_type": "code",
   "execution_count": null,
   "id": "40737c10",
   "metadata": {},
   "outputs": [],
   "source": [
    "new_df.reset_index(drop=True,inplace=True)\n",
    "new_df.drop('Year',axis=1,inplace=True)\n",
    "sb.heatmap(new_df.corr(), annot=True)\n",
    "plt.show()"
   ]
  },
  {
   "cell_type": "markdown",
   "id": "305b8c67",
   "metadata": {},
   "source": [
    "#### Canola"
   ]
  },
  {
   "cell_type": "code",
   "execution_count": null,
   "id": "bdd7c0ed",
   "metadata": {},
   "outputs": [],
   "source": [
    "new_df = df_csv[df_csv['Year']>=2011]\n",
    "new_df.reset_index(inplace=True)"
   ]
  },
  {
   "cell_type": "code",
   "execution_count": null,
   "id": "7ec3fff3",
   "metadata": {},
   "outputs": [],
   "source": [
    "df_mean=new_df.groupby(['RM'])['Canola'].mean()\\\n",
    "    .to_frame()"
   ]
  },
  {
   "cell_type": "code",
   "execution_count": null,
   "id": "65f94aa5",
   "metadata": {},
   "outputs": [],
   "source": [
    "df_std=new_df.groupby(['RM'])['Canola'].std()\\\n",
    "    .to_frame()"
   ]
  },
  {
   "cell_type": "code",
   "execution_count": null,
   "id": "12a93e09",
   "metadata": {},
   "outputs": [],
   "source": [
    "df_mean.reset_index(inplace=True)\n",
    "df_std.reset_index(inplace=True)"
   ]
  },
  {
   "cell_type": "code",
   "execution_count": null,
   "id": "2173e276",
   "metadata": {},
   "outputs": [],
   "source": [
    "df_ms=pd.merge(\n",
    "    df_mean.rename(columns={'Canola': 'MeanYield'}),\n",
    "    df_std.rename(columns={'Canola': 'StdYield'}),\n",
    "    on='RM'\n",
    ")"
   ]
  },
  {
   "cell_type": "code",
   "execution_count": null,
   "id": "789e1a66",
   "metadata": {},
   "outputs": [],
   "source": [
    "from sklearn.cluster import KMeans\n",
    "\n",
    "# Define the features to be used for clustering\n",
    "X = df_ms[['MeanYield', 'StdYield']]\n",
    "\n",
    "# Elbow method to determine the optimal number of clusters\n",
    "sse = []\n",
    "for k in range(1, 11):\n",
    "    kmeans = KMeans(n_clusters=k)\n",
    "    kmeans.fit(X)\n",
    "    sse.append(kmeans.inertia_)\n",
    "    \n",
    "# Plot the elbow graph\n",
    "plt.plot(range(1, 11), sse)\n",
    "plt.xlabel('Number of Clusters')\n",
    "plt.ylabel('Sum of Squared Distances')\n",
    "plt.savefig(\"elbow\")\n",
    "plt.show()\n"
   ]
  },
  {
   "cell_type": "code",
   "execution_count": null,
   "id": "f79ab747",
   "metadata": {},
   "outputs": [],
   "source": [
    "# Fit the KMeans model with the optimal number of clusters\n",
    "kmeans = KMeans(n_clusters=3)\n",
    "kmeans.fit(X)\n",
    "\n",
    "# Predict the cluster labels for each data point\n",
    "labels = kmeans.predict(X)\n",
    "\n",
    "# Plot the data points and cluster centers\n",
    "plt.scatter(X['MeanYield'], X['StdYield'], c=labels)\n",
    "plt.scatter(kmeans.cluster_centers_[:, 0], kmeans.cluster_centers_[:, 1], marker='x', s=200, linewidths=3, color='r')\n",
    "plt.xlabel('MeanYield')\n",
    "plt.ylabel('StdYield')\n",
    "plt.savefig(\"cluster\")\n",
    "plt.show()\n"
   ]
  },
  {
   "cell_type": "code",
   "execution_count": null,
   "id": "e6d1b787",
   "metadata": {},
   "outputs": [],
   "source": [
    "df_ms['Labels']=labels"
   ]
  },
  {
   "cell_type": "code",
   "execution_count": null,
   "id": "402c52dd",
   "metadata": {},
   "outputs": [],
   "source": [
    "df_ms.groupby('Labels').mean()\\\n",
    "    .sort_values('MeanYield')"
   ]
  },
  {
   "cell_type": "code",
   "execution_count": null,
   "id": "500b8820",
   "metadata": {},
   "outputs": [],
   "source": [
    "df_ms.replace(to_replace={\n",
    "    0:2,\n",
    "    1:0,\n",
    "    2:1}, inplace=True)\n"
   ]
  },
  {
   "cell_type": "code",
   "execution_count": null,
   "id": "4d6bb1a1",
   "metadata": {},
   "outputs": [],
   "source": [
    "m=pd.merge(\n",
    "    gdf[['RM','Municipality', 'geometry']],\n",
    "    df_ms,\n",
    "    on='RM'\n",
    "    ).explore(\n",
    "        column='Labels', # column you want to visualize\n",
    "        cmap='YlGn', # color on the map\n",
    "        k=3, # number of colors. We have 3 clusters\n",
    "        scheme='naturalbreaks', #How your legened will look like\n",
    "        tiles='Stamen Terrain', # map background type\n",
    "        tooltip=['Municipality', 'MeanYield', 'Labels'] # what to show when you hover around your mouse\n",
    "    )\n",
    "m.save(\"Clustering_Canola.html\")"
   ]
  },
  {
   "cell_type": "markdown",
   "id": "4e5ac89c",
   "metadata": {},
   "source": [
    "#### Chickpeas"
   ]
  },
  {
   "cell_type": "code",
   "execution_count": null,
   "id": "030ea5d6",
   "metadata": {
    "scrolled": true
   },
   "outputs": [],
   "source": [
    "new_df = df_csv[df_csv['Year']>=2011].copy()\n",
    "new_df.reset_index(inplace=True)"
   ]
  },
  {
   "cell_type": "code",
   "execution_count": null,
   "id": "ab9c366e",
   "metadata": {},
   "outputs": [],
   "source": [
    "new_df['Chickpeas'].isna().sum()"
   ]
  },
  {
   "cell_type": "code",
   "execution_count": null,
   "id": "8258786d",
   "metadata": {},
   "outputs": [],
   "source": [
    "new_df.dropna(subset=['Chickpeas'],inplace=True)"
   ]
  },
  {
   "cell_type": "code",
   "execution_count": null,
   "id": "9528b136",
   "metadata": {},
   "outputs": [],
   "source": [
    "new_df['Chickpeas'].isna().sum()"
   ]
  },
  {
   "cell_type": "code",
   "execution_count": null,
   "id": "57b19940",
   "metadata": {},
   "outputs": [],
   "source": [
    "df_mean=new_df.groupby(['RM'])['Chickpeas'].mean()\\\n",
    "    .to_frame()"
   ]
  },
  {
   "cell_type": "code",
   "execution_count": null,
   "id": "18a71bbe",
   "metadata": {},
   "outputs": [],
   "source": [
    "df_std=new_df.groupby(['RM'])['Chickpeas'].std()\\\n",
    "    .to_frame().fillna(0)"
   ]
  },
  {
   "cell_type": "code",
   "execution_count": null,
   "id": "40814897",
   "metadata": {},
   "outputs": [],
   "source": [
    "df_mean.reset_index(inplace=True)\n",
    "df_std.reset_index(inplace=True)"
   ]
  },
  {
   "cell_type": "code",
   "execution_count": null,
   "id": "7c266063",
   "metadata": {},
   "outputs": [],
   "source": [
    "df_std['Chickpeas'].isna().sum()"
   ]
  },
  {
   "cell_type": "code",
   "execution_count": null,
   "id": "66a3910b",
   "metadata": {},
   "outputs": [],
   "source": [
    "df_ms=pd.merge(\n",
    "    df_mean.rename(columns={'Chickpeas': 'MeanYield'}),\n",
    "    df_std.rename(columns={'Chickpeas': 'StdYield'}),\n",
    "    on='RM'\n",
    ")"
   ]
  },
  {
   "cell_type": "code",
   "execution_count": null,
   "id": "f74c8a48",
   "metadata": {},
   "outputs": [],
   "source": [
    "from sklearn.cluster import KMeans\n",
    "\n",
    "# Define the features to be used for clustering\n",
    "X = df_ms[['MeanYield', 'StdYield']]\n",
    "\n",
    "# Elbow method to determine the optimal number of clusters\n",
    "sse = []\n",
    "for k in range(1, 11):\n",
    "    kmeans = KMeans(n_clusters=k)\n",
    "    kmeans.fit(X)\n",
    "    sse.append(kmeans.inertia_)\n",
    "    \n",
    "# Plot the elbow graph\n",
    "plt.plot(range(1, 11), sse)\n",
    "plt.xlabel('Number of Clusters')\n",
    "plt.ylabel('Sum of Squared Distances')\n",
    "plt.show()"
   ]
  },
  {
   "cell_type": "code",
   "execution_count": null,
   "id": "6b3d5e9e",
   "metadata": {},
   "outputs": [],
   "source": [
    "# Fit the KMeans model with the optimal number of clusters\n",
    "kmeans = KMeans(n_clusters=3)\n",
    "kmeans.fit(X)\n",
    "\n",
    "# Predict the cluster labels for each data point\n",
    "labels = kmeans.predict(X)\n",
    "\n",
    "# Plot the data points and cluster centers\n",
    "plt.scatter(X['MeanYield'], X['StdYield'], c=labels)\n",
    "plt.scatter(kmeans.cluster_centers_[:, 0], kmeans.cluster_centers_[:, 1], marker='x', s=200, linewidths=3, color='r')\n",
    "plt.xlabel('MeanYield')\n",
    "plt.ylabel('StdYield')\n",
    "plt.show()"
   ]
  },
  {
   "cell_type": "code",
   "execution_count": null,
   "id": "1ea8317f",
   "metadata": {},
   "outputs": [],
   "source": [
    "df_ms['Labels']=labels"
   ]
  },
  {
   "cell_type": "code",
   "execution_count": null,
   "id": "8299656d",
   "metadata": {},
   "outputs": [],
   "source": [
    "df_ms.groupby('Labels').mean()\\\n",
    "    .sort_values('MeanYield')"
   ]
  },
  {
   "cell_type": "code",
   "execution_count": null,
   "id": "c6702809",
   "metadata": {},
   "outputs": [],
   "source": [
    "#df_ms.replace(to_replace={\n",
    "#    0:1,\n",
    "#    1:0}, inplace=True\n",
    "#)"
   ]
  },
  {
   "cell_type": "code",
   "execution_count": null,
   "id": "270cbdc8",
   "metadata": {},
   "outputs": [],
   "source": [
    "m=pd.merge(\n",
    "    gdf[['RM', 'Municipality', 'geometry']],\n",
    "    df_ms,\n",
    "    on='RM'\n",
    "    ).explore(\n",
    "        column='Labels', # column you want to visualize\n",
    "        cmap='YlGn', # color on the map\n",
    "        k=3, # number of colors. We have 3 clusters\n",
    "        scheme='naturalbreaks', #How your legened will look like\n",
    "        tiles='Stamen Terrain', # map background type\n",
    "        tooltip=['Municipality', 'MeanYield', 'Labels'] # what to show when you hover around your mouse\n",
    "    )\n",
    "m.save(\"Clustering_Chickpeas.html\")"
   ]
  },
  {
   "cell_type": "markdown",
   "id": "1c3e6427",
   "metadata": {},
   "source": [
    "#### Lentils"
   ]
  },
  {
   "cell_type": "code",
   "execution_count": null,
   "id": "a5ff411e",
   "metadata": {},
   "outputs": [],
   "source": [
    "new_df = df_csv[df_csv['Year']>=2011].copy()\n",
    "new_df.reset_index(inplace=True)"
   ]
  },
  {
   "cell_type": "code",
   "execution_count": null,
   "id": "dd4343fb",
   "metadata": {},
   "outputs": [],
   "source": [
    "new_df['Lentils'].isna().sum()"
   ]
  },
  {
   "cell_type": "code",
   "execution_count": null,
   "id": "5710c831",
   "metadata": {},
   "outputs": [],
   "source": [
    "new_df.dropna(subset=['Lentils'],inplace=True)"
   ]
  },
  {
   "cell_type": "code",
   "execution_count": null,
   "id": "171615b3",
   "metadata": {},
   "outputs": [],
   "source": [
    "new_df['Lentils'].isna().sum()"
   ]
  },
  {
   "cell_type": "code",
   "execution_count": null,
   "id": "a2587396",
   "metadata": {},
   "outputs": [],
   "source": [
    "df_mean=new_df.groupby(['RM'])['Lentils'].mean()\\\n",
    "    .to_frame()"
   ]
  },
  {
   "cell_type": "code",
   "execution_count": null,
   "id": "4124bca7",
   "metadata": {},
   "outputs": [],
   "source": [
    "df_std=new_df.groupby(['RM'])['Lentils'].std()\\\n",
    "    .to_frame().fillna(0)"
   ]
  },
  {
   "cell_type": "code",
   "execution_count": null,
   "id": "be1b3fee",
   "metadata": {},
   "outputs": [],
   "source": [
    "df_mean.reset_index(inplace=True)\n",
    "df_std.reset_index(inplace=True)"
   ]
  },
  {
   "cell_type": "code",
   "execution_count": null,
   "id": "8cdb7b9b",
   "metadata": {},
   "outputs": [],
   "source": [
    "df_std['Lentils'].isna().sum()"
   ]
  },
  {
   "cell_type": "code",
   "execution_count": null,
   "id": "40ef8a78",
   "metadata": {},
   "outputs": [],
   "source": [
    "df_ms=pd.merge(\n",
    "    df_mean.rename(columns={'Lentils': 'MeanYield'}),\n",
    "    df_std.rename(columns={'Lentils': 'StdYield'}),\n",
    "    on='RM'\n",
    ")"
   ]
  },
  {
   "cell_type": "code",
   "execution_count": null,
   "id": "ff213f7e",
   "metadata": {},
   "outputs": [],
   "source": [
    "from sklearn.cluster import KMeans\n",
    "\n",
    "# Define the features to be used for clustering\n",
    "X = df_ms[['MeanYield', 'StdYield']]\n",
    "\n",
    "# Elbow method to determine the optimal number of clusters\n",
    "sse = []\n",
    "for k in range(1, 11):\n",
    "    kmeans = KMeans(n_clusters=k)\n",
    "    kmeans.fit(X)\n",
    "    sse.append(kmeans.inertia_)\n",
    "    \n",
    "# Plot the elbow graph\n",
    "plt.plot(range(1, 11), sse)\n",
    "plt.xlabel('Number of Clusters')\n",
    "plt.ylabel('Sum of Squared Distances')\n",
    "plt.show()"
   ]
  },
  {
   "cell_type": "code",
   "execution_count": null,
   "id": "48f80fc1",
   "metadata": {},
   "outputs": [],
   "source": [
    "# Fit the KMeans model with the optimal number of clusters\n",
    "kmeans = KMeans(n_clusters=3)\n",
    "kmeans.fit(X)\n",
    "\n",
    "# Predict the cluster labels for each data point\n",
    "labels = kmeans.predict(X)\n",
    "\n",
    "# Plot the data points and cluster centers\n",
    "plt.scatter(X['MeanYield'], X['StdYield'], c=labels)\n",
    "plt.scatter(kmeans.cluster_centers_[:, 0], kmeans.cluster_centers_[:, 1], marker='x', s=200, linewidths=3, color='r')\n",
    "plt.xlabel('MeanYield')\n",
    "plt.ylabel('StdYield')\n",
    "plt.show()"
   ]
  },
  {
   "cell_type": "code",
   "execution_count": null,
   "id": "53791c4d",
   "metadata": {},
   "outputs": [],
   "source": [
    "df_ms['Labels']=labels"
   ]
  },
  {
   "cell_type": "code",
   "execution_count": null,
   "id": "20179fd7",
   "metadata": {
    "scrolled": true
   },
   "outputs": [],
   "source": [
    "df_ms.groupby('Labels').mean()\\\n",
    "    .sort_values('MeanYield')"
   ]
  },
  {
   "cell_type": "code",
   "execution_count": null,
   "id": "83cf1d95",
   "metadata": {},
   "outputs": [],
   "source": [
    "df_ms.replace(to_replace={\n",
    "    2:1,\n",
    "#    0:1,\n",
    "    1:2}, inplace=True\n",
    ")"
   ]
  },
  {
   "cell_type": "code",
   "execution_count": null,
   "id": "a76eeb3d",
   "metadata": {},
   "outputs": [],
   "source": [
    "m=pd.merge(\n",
    "    gdf[['RM', 'Municipality', 'geometry']],\n",
    "    df_ms,\n",
    "    on='RM'\n",
    "    ).explore(\n",
    "        column='Labels', # column you want to visualize\n",
    "        cmap='YlGn', # color on the map\n",
    "        k=3, # number of colors. We have 3 clusters\n",
    "        scheme='naturalbreaks', #How your legened will look like\n",
    "        tiles='Stamen Terrain', # map background type\n",
    "        tooltip=['Municipality', 'MeanYield', 'Labels'] # what to show when you hover around your mouse\n",
    "    )\n",
    "m.save(\"Clustering_Lentils.html\")"
   ]
  },
  {
   "cell_type": "markdown",
   "id": "47d7b47d",
   "metadata": {},
   "source": [
    "#### Mustard"
   ]
  },
  {
   "cell_type": "code",
   "execution_count": null,
   "id": "3eac9704",
   "metadata": {},
   "outputs": [],
   "source": [
    "new_df = df_csv[df_csv['Year']>=2011].copy()\n",
    "new_df.reset_index(inplace=True)\n"
   ]
  },
  {
   "cell_type": "code",
   "execution_count": null,
   "id": "f3ec3f1c",
   "metadata": {},
   "outputs": [],
   "source": [
    "new_df['Mustard'].isna().sum()"
   ]
  },
  {
   "cell_type": "code",
   "execution_count": null,
   "id": "d41d1748",
   "metadata": {},
   "outputs": [],
   "source": [
    "new_df.dropna(subset=['Mustard'],inplace=True)"
   ]
  },
  {
   "cell_type": "code",
   "execution_count": null,
   "id": "e163a021",
   "metadata": {},
   "outputs": [],
   "source": [
    "new_df['Mustard'].isna().sum()"
   ]
  },
  {
   "cell_type": "code",
   "execution_count": null,
   "id": "02b6717c",
   "metadata": {},
   "outputs": [],
   "source": [
    "df_mean=new_df.groupby(['RM'])['Mustard'].mean()\\\n",
    "    .to_frame()"
   ]
  },
  {
   "cell_type": "code",
   "execution_count": null,
   "id": "e3a16c00",
   "metadata": {},
   "outputs": [],
   "source": [
    "df_std=new_df.groupby(['RM'])['Mustard'].std()\\\n",
    "    .to_frame().fillna(0)"
   ]
  },
  {
   "cell_type": "code",
   "execution_count": null,
   "id": "c69c0d30",
   "metadata": {},
   "outputs": [],
   "source": [
    "df_mean.reset_index(inplace=True)\n",
    "df_std.reset_index(inplace=True)"
   ]
  },
  {
   "cell_type": "code",
   "execution_count": null,
   "id": "317ade38",
   "metadata": {},
   "outputs": [],
   "source": [
    "df_std['Mustard'].isna().sum()"
   ]
  },
  {
   "cell_type": "code",
   "execution_count": null,
   "id": "6823b904",
   "metadata": {},
   "outputs": [],
   "source": [
    "df_ms=pd.merge(\n",
    "    df_mean.rename(columns={'Mustard': 'MeanYield'}),\n",
    "    df_std.rename(columns={'Mustard': 'StdYield'}),\n",
    "    on='RM'\n",
    ")"
   ]
  },
  {
   "cell_type": "code",
   "execution_count": null,
   "id": "858cb885",
   "metadata": {},
   "outputs": [],
   "source": [
    "from sklearn.cluster import KMeans\n",
    "\n",
    "# Define the features to be used for clustering\n",
    "X = df_ms[['MeanYield', 'StdYield']]\n",
    "\n",
    "# Elbow method to determine the optimal number of clusters\n",
    "sse = []\n",
    "for k in range(1, 11):\n",
    "    kmeans = KMeans(n_clusters=k)\n",
    "    kmeans.fit(X)\n",
    "    sse.append(kmeans.inertia_)\n",
    "    \n",
    "# Plot the elbow graph\n",
    "plt.plot(range(1, 11), sse)\n",
    "plt.xlabel('Number of Clusters')\n",
    "plt.ylabel('Sum of Squared Distances')\n",
    "plt.show()"
   ]
  },
  {
   "cell_type": "code",
   "execution_count": null,
   "id": "5bca51b1",
   "metadata": {},
   "outputs": [],
   "source": [
    "# Fit the KMeans model with the optimal number of clusters\n",
    "kmeans = KMeans(n_clusters=3)\n",
    "kmeans.fit(X)\n",
    "\n",
    "# Predict the cluster labels for each data point\n",
    "labels = kmeans.predict(X)\n",
    "\n",
    "# Plot the data points and cluster centers\n",
    "plt.scatter(X['MeanYield'], X['StdYield'], c=labels)\n",
    "plt.scatter(kmeans.cluster_centers_[:, 0], kmeans.cluster_centers_[:, 1], marker='x', s=200, linewidths=3, color='r')\n",
    "plt.xlabel('MeanYield')\n",
    "plt.ylabel('StdYield')\n",
    "plt.show()"
   ]
  },
  {
   "cell_type": "code",
   "execution_count": null,
   "id": "be7a1670",
   "metadata": {},
   "outputs": [],
   "source": [
    "df_ms['Labels']=labels"
   ]
  },
  {
   "cell_type": "code",
   "execution_count": null,
   "id": "c56d6d3c",
   "metadata": {},
   "outputs": [],
   "source": [
    "df_ms.groupby('Labels').mean()\\\n",
    "    .sort_values('MeanYield')"
   ]
  },
  {
   "cell_type": "code",
   "execution_count": null,
   "id": "db9e941b",
   "metadata": {},
   "outputs": [],
   "source": [
    "df_ms.replace(to_replace={\n",
    "    0:1,\n",
    "    1:2,\n",
    "    2:0}, inplace=True\n",
    ")"
   ]
  },
  {
   "cell_type": "code",
   "execution_count": null,
   "id": "3f34ab89",
   "metadata": {},
   "outputs": [],
   "source": [
    "m=pd.merge(\n",
    "    gdf[['RM','Municipality', 'geometry']],\n",
    "    df_ms,\n",
    "    on='RM'\n",
    "    ).explore(\n",
    "        column='Labels', # column you want to visualize\n",
    "        cmap='YlGn', # color on the map\n",
    "        k=3, # number of colors. We have 3 clusters\n",
    "        scheme='naturalbreaks', #How your legend will look like\n",
    "        tiles='Stamen Terrain', # map background type\n",
    "        tooltip=['Municipality', 'MeanYield', 'Labels'] # what to show when you hover around your mouse\n",
    "    )\n",
    "m.save(\"Clustering_Mustard.html\")"
   ]
  },
  {
   "cell_type": "markdown",
   "id": "a260926b",
   "metadata": {},
   "source": [
    "#### Canary Seed"
   ]
  },
  {
   "cell_type": "code",
   "execution_count": null,
   "id": "b4435623",
   "metadata": {},
   "outputs": [],
   "source": [
    "new_df = df_csv[df_csv['Year']>=2011].copy()\n",
    "new_df.reset_index(drop=True, inplace=True)"
   ]
  },
  {
   "cell_type": "code",
   "execution_count": null,
   "id": "8b73f50b",
   "metadata": {
    "scrolled": true
   },
   "outputs": [],
   "source": [
    "new_df"
   ]
  },
  {
   "cell_type": "code",
   "execution_count": null,
   "id": "837a22d2",
   "metadata": {},
   "outputs": [],
   "source": [
    "#sb.boxplot(new_df['Canary Seed'])\n",
    "new_df.boxplot(column='Canary Seed',figsize=(4,4))\n",
    "#plt.boxplot(new_df['Canary Seed'])\n",
    "#plt.show()\n"
   ]
  },
  {
   "cell_type": "code",
   "execution_count": null,
   "id": "edd6ae1d",
   "metadata": {},
   "outputs": [],
   "source": [
    "sb.displot(new_df['Canary Seed'])"
   ]
  },
  {
   "cell_type": "code",
   "execution_count": null,
   "id": "4b16e757",
   "metadata": {},
   "outputs": [],
   "source": [
    "new_df['Canary Seed'].isna().sum()"
   ]
  },
  {
   "cell_type": "code",
   "execution_count": null,
   "id": "eff57045",
   "metadata": {},
   "outputs": [],
   "source": [
    "new_df.dropna(subset=['Canary Seed'],inplace=True)"
   ]
  },
  {
   "cell_type": "code",
   "execution_count": null,
   "id": "1b58d6db",
   "metadata": {},
   "outputs": [],
   "source": [
    "new_df['Canary Seed'].isna().sum()"
   ]
  },
  {
   "cell_type": "code",
   "execution_count": null,
   "id": "5ba06bfc",
   "metadata": {},
   "outputs": [],
   "source": [
    "df_mean=new_df.groupby(['RM'])['Canary Seed'].mean()\\\n",
    "    .to_frame()"
   ]
  },
  {
   "cell_type": "code",
   "execution_count": null,
   "id": "5a2ecf2e",
   "metadata": {},
   "outputs": [],
   "source": [
    "df_std=new_df.groupby(['RM'])['Canary Seed'].std()\\\n",
    "    .to_frame().fillna(0)"
   ]
  },
  {
   "cell_type": "code",
   "execution_count": null,
   "id": "66f69cf1",
   "metadata": {},
   "outputs": [],
   "source": [
    "df_mean.reset_index(inplace=True)\n",
    "df_std.reset_index(inplace=True)"
   ]
  },
  {
   "cell_type": "code",
   "execution_count": null,
   "id": "c96b0f4a",
   "metadata": {},
   "outputs": [],
   "source": [
    "df_std['Canary Seed'].isna().sum()"
   ]
  },
  {
   "cell_type": "code",
   "execution_count": null,
   "id": "fecffd86",
   "metadata": {},
   "outputs": [],
   "source": [
    "df_ms=pd.merge(\n",
    "    df_mean.rename(columns={'Canary Seed': 'MeanYield'}),\n",
    "    df_std.rename(columns={'Canary Seed': 'StdYield'}),\n",
    "    on='RM'\n",
    ")"
   ]
  },
  {
   "cell_type": "code",
   "execution_count": null,
   "id": "31ee9baa",
   "metadata": {},
   "outputs": [],
   "source": [
    "from sklearn.cluster import KMeans\n",
    "\n",
    "# Define the features to be used for clustering\n",
    "X = df_ms[['MeanYield', 'StdYield']]\n",
    "\n",
    "# Elbow method to determine the optimal number of clusters\n",
    "sse = []\n",
    "for k in range(1, 11):\n",
    "    kmeans = KMeans(n_clusters=k)\n",
    "    kmeans.fit(X)\n",
    "    sse.append(kmeans.inertia_)\n",
    "    \n",
    "# Plot the elbow graph\n",
    "plt.plot(range(1, 11), sse)\n",
    "plt.xlabel('Number of Clusters')\n",
    "plt.ylabel('Sum of Squared Distances')\n",
    "plt.show()"
   ]
  },
  {
   "cell_type": "code",
   "execution_count": null,
   "id": "aa29e38c",
   "metadata": {},
   "outputs": [],
   "source": [
    "# Fit the KMeans model with the optimal number of clusters\n",
    "kmeans = KMeans(n_clusters=3)\n",
    "kmeans.fit(X)\n",
    "\n",
    "# Predict the cluster labels for each data point\n",
    "labels = kmeans.predict(X)\n",
    "\n",
    "# Plot the data points and cluster centers\n",
    "plt.scatter(X['MeanYield'], X['StdYield'], c=labels)\n",
    "plt.scatter(kmeans.cluster_centers_[:, 0], kmeans.cluster_centers_[:, 1], marker='x', s=200, linewidths=3, color='r')\n",
    "plt.xlabel('MeanYield')\n",
    "plt.ylabel('StdYield')\n",
    "plt.show()"
   ]
  },
  {
   "cell_type": "code",
   "execution_count": null,
   "id": "33cf7432",
   "metadata": {},
   "outputs": [],
   "source": [
    "df_ms['Labels']=labels"
   ]
  },
  {
   "cell_type": "code",
   "execution_count": null,
   "id": "473debbd",
   "metadata": {},
   "outputs": [],
   "source": [
    "df_ms.groupby('Labels').mean()\\\n",
    "    .sort_values('MeanYield')"
   ]
  },
  {
   "cell_type": "code",
   "execution_count": null,
   "id": "4af0cab1",
   "metadata": {},
   "outputs": [],
   "source": [
    "df_ms.replace(to_replace={\n",
    "    0:1,\n",
    "    1:0}, inplace=True\n",
    ")"
   ]
  },
  {
   "cell_type": "code",
   "execution_count": null,
   "id": "94feea39",
   "metadata": {},
   "outputs": [],
   "source": [
    "m=pd.merge(\n",
    "    gdf[['RM','Municipality', 'geometry']],\n",
    "    df_ms,\n",
    "    on='RM'\n",
    "    ).explore(\n",
    "        column='Labels', # column you want to visualize\n",
    "        cmap='YlGn', # color on the map\n",
    "        k=3, # number of colors. We have 3 clusters\n",
    "        scheme='naturalbreaks', #How your legend will look like\n",
    "        tiles='Stamen Terrain', # map background type\n",
    "        tooltip=['Municipality', 'MeanYield', 'Labels'] # what to show when you hover around your mouse\n",
    "    )\n",
    "m.save(\"Clustering_CanarySeed.html\")"
   ]
  },
  {
   "cell_type": "code",
   "execution_count": null,
   "id": "fec2665a",
   "metadata": {},
   "outputs": [],
   "source": [
    "df_csv[~df_csv['Chickpeas'].isna()]['RM'].unique()"
   ]
  },
  {
   "cell_type": "code",
   "execution_count": null,
   "id": "b9df984f",
   "metadata": {},
   "outputs": [],
   "source": [
    "df_csv['Chickpeas'].sum()\n",
    "df_csv['Chickpeas'].count()\n",
    "df_csv[~df_csv['Chickpeas'].isna()]['RM']\n",
    "df_csv['RM'].nunique()\n",
    "gpd.GeoDataFrame(pd.merge(\n",
    "    df_csv[~df_csv['Chickpeas'].isna()].groupby('RM').mean(),\n",
    "    gdf,\n",
    "    on='RM'\n",
    ")).explore(\n",
    "    column='Chickpeas', tooltip = ['Municipality','Chickpeas']\n",
    ")"
   ]
  },
  {
   "cell_type": "code",
   "execution_count": null,
   "id": "61e81140",
   "metadata": {},
   "outputs": [],
   "source": [
    "df_total_sum = df_csv.copy()\n",
    "df_total_sum.drop('Year',axis=1,inplace=True)\n",
    "df_total_sum.drop('RM',axis=1,inplace=True)\n",
    "df_total_sum = df_total_sum.sum()\n",
    "fig=df_total_sum.sort_values(axis=0).plot(kind='barh',figsize=(8,8),title='Total Sum of Crop Yield (1938 - 2021)',\\\n",
    "                                         xlabel='Yield(bu/acre)').get_figure()\n",
    "fig.savefig('Total Sum of Crop Yield 1938 to 2021')\n",
    "\n"
   ]
  },
  {
   "cell_type": "code",
   "execution_count": null,
   "id": "77852f85",
   "metadata": {},
   "outputs": [],
   "source": []
  }
 ],
 "metadata": {
  "kernelspec": {
   "display_name": "Python 3 (ipykernel)",
   "language": "python",
   "name": "python3"
  },
  "language_info": {
   "codemirror_mode": {
    "name": "ipython",
    "version": 3
   },
   "file_extension": ".py",
   "mimetype": "text/x-python",
   "name": "python",
   "nbconvert_exporter": "python",
   "pygments_lexer": "ipython3",
   "version": "3.9.13"
  }
 },
 "nbformat": 4,
 "nbformat_minor": 5
}
