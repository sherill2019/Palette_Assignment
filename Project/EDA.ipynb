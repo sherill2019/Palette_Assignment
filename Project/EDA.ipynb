{
 "cells": [
  {
   "cell_type": "code",
   "execution_count": 3,
   "id": "a873fb44",
   "metadata": {},
   "outputs": [],
   "source": [
    "import numpy as np\n",
    "import pandas as pd\n",
    "import statsmodels.api as sm\n",
    "import matplotlib.pyplot as plt\n",
    "import geopandas as gpd\n",
    "import seaborn as sb\n",
    "plt.rcParams['figure.figsize'] = (20, 12)"
   ]
  },
  {
   "cell_type": "markdown",
   "id": "5efe0f00",
   "metadata": {},
   "source": [
    "# ETL (extract, transform, load)"
   ]
  },
  {
   "cell_type": "markdown",
   "id": "39edfa45",
   "metadata": {},
   "source": [
    "## load csv, shp file"
   ]
  },
  {
   "cell_type": "code",
   "execution_count": 4,
   "id": "63f472c8",
   "metadata": {},
   "outputs": [],
   "source": [
    "#load into main df_csv\n",
    "df_csv = pd.read_csv('rm_crop_yields_1938_2021.csv')"
   ]
  },
  {
   "cell_type": "code",
   "execution_count": 5,
   "id": "31c33aed",
   "metadata": {},
   "outputs": [
    {
     "name": "stdout",
     "output_type": "stream",
     "text": [
      "<class 'pandas.core.frame.DataFrame'>\n",
      "RangeIndex: 25017 entries, 0 to 25016\n",
      "Data columns (total 18 columns):\n",
      " #   Column        Non-Null Count  Dtype  \n",
      "---  ------        --------------  -----  \n",
      " 0   Year          25017 non-null  int64  \n",
      " 1   RM            25017 non-null  int64  \n",
      " 2   Winter Wheat  3037 non-null   float64\n",
      " 3   Canola        14008 non-null  float64\n",
      " 4   Spring Wheat  24924 non-null  float64\n",
      " 5   Mustard       4487 non-null   float64\n",
      " 6   Durum         11581 non-null  float64\n",
      " 7   Sunflowers    946 non-null    float64\n",
      " 8   Oats          23913 non-null  float64\n",
      " 9   Lentils       5515 non-null   float64\n",
      " 10  Peas          8134 non-null   float64\n",
      " 11  Barley        24703 non-null  float64\n",
      " 12  Fall Rye      15847 non-null  float64\n",
      " 13  Canary Seed   3819 non-null   float64\n",
      " 14  Spring Rye    805 non-null    float64\n",
      " 15  Tame Hay      4205 non-null   float64\n",
      " 16  Flax          20934 non-null  float64\n",
      " 17  Chickpeas     960 non-null    float64\n",
      "dtypes: float64(16), int64(2)\n",
      "memory usage: 3.4 MB\n"
     ]
    }
   ],
   "source": [
    "df_csv.info()"
   ]
  },
  {
   "cell_type": "code",
   "execution_count": 6,
   "id": "d8492fc8",
   "metadata": {},
   "outputs": [],
   "source": [
    "df_csv.rename(columns={\"Winter Wheat\": \"WinterWheat\", \"Spring Wheat\": \"SpringWheat\",\"Fall Rye\":\"FallRye\",\\\n",
    "             \"Canary Seed\":\"CanarySeed\",\"Spring Rye\":\"SpringRye\",\"Tame Hay\":\"TameHay\"},inplace=True)"
   ]
  },
  {
   "cell_type": "code",
   "execution_count": 7,
   "id": "18ac661f",
   "metadata": {},
   "outputs": [],
   "source": [
    "#https://saskpulse.com\n",
    "#https://www.rayglen.com/grain-conversion-calculator/\n",
    "# (lbs/ac) -> Mustard (50 lbs/bu), Sunflower (30 lbs/bu), Lentils (60 lbs/bu), \n",
    "#             Canary Seeed (50 lbs/bu), Chickpeas (60lb/bu)\n",
    "\n",
    "# Tame Hay (tons/ac)\n",
    "# All the rest are bushel/acre (bu/ac)\n",
    "df_csv['Mustard']=df_csv['Mustard']/50\n",
    "df_csv['Sunflowers']=df_csv['Sunflowers']/30\n",
    "df_csv['Lentils']=df_csv['Lentils']/60\n",
    "df_csv['CanarySeed']=df_csv['CanarySeed']/50\n",
    "df_csv['Chickpeas']=df_csv['Chickpeas']/60"
   ]
  },
  {
   "cell_type": "code",
   "execution_count": 8,
   "id": "3b62c007",
   "metadata": {},
   "outputs": [],
   "source": [
    "#load shp data\n",
    "gdf = gpd.read_file('Rural Municipality.shp')\n",
    "\n",
    "#drop columns that won't be using\n",
    "gdf.drop(['PPID','EFFDT','EXPDT','FEATURECD','SHAPE_AREA','SHAPE_LEN'],axis=1,inplace=True)\n",
    "\n",
    "#rename column to match with main df\n",
    "gdf.rename(columns=\n",
    "{   'RMNO': 'RM',\n",
    "    'RMNM': 'Municipality'\n",
    "}, inplace=True)\n",
    "\n",
    "#match data type between df_csv and gdf\n",
    "gdf['RM']=gdf['RM'].astype('int')\n",
    "gdf['Municipality']=gdf['Municipality'].astype('string')\n"
   ]
  },
  {
   "cell_type": "code",
   "execution_count": 9,
   "id": "01fe1b2d",
   "metadata": {},
   "outputs": [
    {
     "name": "stdout",
     "output_type": "stream",
     "text": [
      "<class 'geopandas.geodataframe.GeoDataFrame'>\n",
      "RangeIndex: 298 entries, 0 to 297\n",
      "Data columns (total 3 columns):\n",
      " #   Column        Non-Null Count  Dtype   \n",
      "---  ------        --------------  -----   \n",
      " 0   RM            298 non-null    int64   \n",
      " 1   Municipality  298 non-null    string  \n",
      " 2   geometry      298 non-null    geometry\n",
      "dtypes: geometry(1), int64(1), string(1)\n",
      "memory usage: 7.1 KB\n"
     ]
    }
   ],
   "source": [
    "gdf.info()"
   ]
  },
  {
   "cell_type": "markdown",
   "id": "78058650",
   "metadata": {},
   "source": [
    "# EDA (Extrapolatory Data Analysis)"
   ]
  },
  {
   "cell_type": "markdown",
   "id": "233b46cd",
   "metadata": {},
   "source": [
    "#### check for unique values"
   ]
  },
  {
   "cell_type": "code",
   "execution_count": 10,
   "id": "05ccb0e4",
   "metadata": {},
   "outputs": [
    {
     "data": {
      "text/plain": [
       "298"
      ]
     },
     "execution_count": 10,
     "metadata": {},
     "output_type": "execute_result"
    }
   ],
   "source": [
    "gdf['RM'].unique()\n",
    "gdf['RM'].nunique()\n",
    "#298 unique RM"
   ]
  },
  {
   "cell_type": "markdown",
   "id": "ac01f8f3",
   "metadata": {},
   "source": [
    "#### check for duplicated values"
   ]
  },
  {
   "cell_type": "code",
   "execution_count": 11,
   "id": "41898397",
   "metadata": {},
   "outputs": [
    {
     "data": {
      "text/plain": [
       "0"
      ]
     },
     "execution_count": 11,
     "metadata": {},
     "output_type": "execute_result"
    }
   ],
   "source": [
    "gdf.duplicated().sum()"
   ]
  },
  {
   "cell_type": "code",
   "execution_count": 12,
   "id": "c3f29e4f",
   "metadata": {},
   "outputs": [
    {
     "data": {
      "text/html": [
       "<div>\n",
       "<style scoped>\n",
       "    .dataframe tbody tr th:only-of-type {\n",
       "        vertical-align: middle;\n",
       "    }\n",
       "\n",
       "    .dataframe tbody tr th {\n",
       "        vertical-align: top;\n",
       "    }\n",
       "\n",
       "    .dataframe thead th {\n",
       "        text-align: right;\n",
       "    }\n",
       "</style>\n",
       "<table border=\"1\" class=\"dataframe\">\n",
       "  <thead>\n",
       "    <tr style=\"text-align: right;\">\n",
       "      <th></th>\n",
       "      <th>Year</th>\n",
       "      <th>RM</th>\n",
       "      <th>WinterWheat</th>\n",
       "      <th>Canola</th>\n",
       "      <th>SpringWheat</th>\n",
       "      <th>Mustard</th>\n",
       "      <th>Durum</th>\n",
       "      <th>Sunflowers</th>\n",
       "      <th>Oats</th>\n",
       "      <th>Lentils</th>\n",
       "      <th>Peas</th>\n",
       "      <th>Barley</th>\n",
       "      <th>FallRye</th>\n",
       "      <th>CanarySeed</th>\n",
       "      <th>SpringRye</th>\n",
       "      <th>TameHay</th>\n",
       "      <th>Flax</th>\n",
       "      <th>Chickpeas</th>\n",
       "    </tr>\n",
       "  </thead>\n",
       "  <tbody>\n",
       "    <tr>\n",
       "      <th>count</th>\n",
       "      <td>25017.000000</td>\n",
       "      <td>25017.000000</td>\n",
       "      <td>3037.00000</td>\n",
       "      <td>14008.000000</td>\n",
       "      <td>24924.000000</td>\n",
       "      <td>4487.000000</td>\n",
       "      <td>11581.000000</td>\n",
       "      <td>946.000000</td>\n",
       "      <td>23913.000000</td>\n",
       "      <td>5515.000000</td>\n",
       "      <td>8134.000000</td>\n",
       "      <td>24703.000000</td>\n",
       "      <td>15847.000000</td>\n",
       "      <td>3819.000000</td>\n",
       "      <td>805.000000</td>\n",
       "      <td>4205.000000</td>\n",
       "      <td>20934.000000</td>\n",
       "      <td>960.000000</td>\n",
       "    </tr>\n",
       "    <tr>\n",
       "      <th>mean</th>\n",
       "      <td>1979.385938</td>\n",
       "      <td>248.957509</td>\n",
       "      <td>38.24350</td>\n",
       "      <td>24.146796</td>\n",
       "      <td>25.778733</td>\n",
       "      <td>16.883719</td>\n",
       "      <td>29.024429</td>\n",
       "      <td>23.087664</td>\n",
       "      <td>47.104433</td>\n",
       "      <td>19.529647</td>\n",
       "      <td>30.971982</td>\n",
       "      <td>38.022104</td>\n",
       "      <td>21.225298</td>\n",
       "      <td>19.902804</td>\n",
       "      <td>7.575776</td>\n",
       "      <td>1.181520</td>\n",
       "      <td>14.287663</td>\n",
       "      <td>23.467677</td>\n",
       "    </tr>\n",
       "    <tr>\n",
       "      <th>std</th>\n",
       "      <td>24.221744</td>\n",
       "      <td>148.829628</td>\n",
       "      <td>12.20715</td>\n",
       "      <td>9.209177</td>\n",
       "      <td>11.153028</td>\n",
       "      <td>5.514007</td>\n",
       "      <td>9.829962</td>\n",
       "      <td>18.525887</td>\n",
       "      <td>21.775369</td>\n",
       "      <td>6.815627</td>\n",
       "      <td>10.223101</td>\n",
       "      <td>16.610425</td>\n",
       "      <td>10.101176</td>\n",
       "      <td>7.084164</td>\n",
       "      <td>12.473814</td>\n",
       "      <td>0.654725</td>\n",
       "      <td>7.082308</td>\n",
       "      <td>9.660584</td>\n",
       "    </tr>\n",
       "    <tr>\n",
       "      <th>min</th>\n",
       "      <td>1938.000000</td>\n",
       "      <td>1.000000</td>\n",
       "      <td>3.00000</td>\n",
       "      <td>0.000000</td>\n",
       "      <td>0.000000</td>\n",
       "      <td>0.712000</td>\n",
       "      <td>0.000000</td>\n",
       "      <td>0.000000</td>\n",
       "      <td>0.000000</td>\n",
       "      <td>0.766667</td>\n",
       "      <td>0.000000</td>\n",
       "      <td>0.000000</td>\n",
       "      <td>0.000000</td>\n",
       "      <td>0.120000</td>\n",
       "      <td>0.000000</td>\n",
       "      <td>0.000000</td>\n",
       "      <td>0.000000</td>\n",
       "      <td>0.516667</td>\n",
       "    </tr>\n",
       "    <tr>\n",
       "      <th>25%</th>\n",
       "      <td>1958.000000</td>\n",
       "      <td>124.000000</td>\n",
       "      <td>30.00000</td>\n",
       "      <td>18.000000</td>\n",
       "      <td>19.000000</td>\n",
       "      <td>13.270000</td>\n",
       "      <td>23.000000</td>\n",
       "      <td>0.000000</td>\n",
       "      <td>33.000000</td>\n",
       "      <td>15.000000</td>\n",
       "      <td>24.300000</td>\n",
       "      <td>26.000000</td>\n",
       "      <td>15.000000</td>\n",
       "      <td>15.140000</td>\n",
       "      <td>0.000000</td>\n",
       "      <td>0.750000</td>\n",
       "      <td>9.000000</td>\n",
       "      <td>16.666667</td>\n",
       "    </tr>\n",
       "    <tr>\n",
       "      <th>50%</th>\n",
       "      <td>1979.000000</td>\n",
       "      <td>247.000000</td>\n",
       "      <td>38.00000</td>\n",
       "      <td>23.000000</td>\n",
       "      <td>25.600000</td>\n",
       "      <td>16.940000</td>\n",
       "      <td>28.200000</td>\n",
       "      <td>26.350000</td>\n",
       "      <td>46.000000</td>\n",
       "      <td>19.433333</td>\n",
       "      <td>31.000000</td>\n",
       "      <td>37.900000</td>\n",
       "      <td>20.000000</td>\n",
       "      <td>20.000000</td>\n",
       "      <td>0.000000</td>\n",
       "      <td>1.200000</td>\n",
       "      <td>14.000000</td>\n",
       "      <td>22.941667</td>\n",
       "    </tr>\n",
       "    <tr>\n",
       "      <th>75%</th>\n",
       "      <td>2000.000000</td>\n",
       "      <td>370.000000</td>\n",
       "      <td>45.50000</td>\n",
       "      <td>29.200000</td>\n",
       "      <td>31.800000</td>\n",
       "      <td>20.018900</td>\n",
       "      <td>34.300000</td>\n",
       "      <td>36.666667</td>\n",
       "      <td>59.000000</td>\n",
       "      <td>23.983333</td>\n",
       "      <td>37.900000</td>\n",
       "      <td>48.750000</td>\n",
       "      <td>26.300000</td>\n",
       "      <td>24.000000</td>\n",
       "      <td>20.000000</td>\n",
       "      <td>1.570000</td>\n",
       "      <td>19.200000</td>\n",
       "      <td>29.704167</td>\n",
       "    </tr>\n",
       "    <tr>\n",
       "      <th>max</th>\n",
       "      <td>2021.000000</td>\n",
       "      <td>622.000000</td>\n",
       "      <td>90.00000</td>\n",
       "      <td>59.500000</td>\n",
       "      <td>198.000000</td>\n",
       "      <td>50.000000</td>\n",
       "      <td>85.370000</td>\n",
       "      <td>80.000000</td>\n",
       "      <td>165.100000</td>\n",
       "      <td>56.850000</td>\n",
       "      <td>86.800000</td>\n",
       "      <td>105.940000</td>\n",
       "      <td>108.000000</td>\n",
       "      <td>54.540000</td>\n",
       "      <td>46.500000</td>\n",
       "      <td>4.000000</td>\n",
       "      <td>110.000000</td>\n",
       "      <td>90.000000</td>\n",
       "    </tr>\n",
       "  </tbody>\n",
       "</table>\n",
       "</div>"
      ],
      "text/plain": [
       "               Year            RM  WinterWheat        Canola   SpringWheat  \\\n",
       "count  25017.000000  25017.000000   3037.00000  14008.000000  24924.000000   \n",
       "mean    1979.385938    248.957509     38.24350     24.146796     25.778733   \n",
       "std       24.221744    148.829628     12.20715      9.209177     11.153028   \n",
       "min     1938.000000      1.000000      3.00000      0.000000      0.000000   \n",
       "25%     1958.000000    124.000000     30.00000     18.000000     19.000000   \n",
       "50%     1979.000000    247.000000     38.00000     23.000000     25.600000   \n",
       "75%     2000.000000    370.000000     45.50000     29.200000     31.800000   \n",
       "max     2021.000000    622.000000     90.00000     59.500000    198.000000   \n",
       "\n",
       "           Mustard         Durum  Sunflowers          Oats      Lentils  \\\n",
       "count  4487.000000  11581.000000  946.000000  23913.000000  5515.000000   \n",
       "mean     16.883719     29.024429   23.087664     47.104433    19.529647   \n",
       "std       5.514007      9.829962   18.525887     21.775369     6.815627   \n",
       "min       0.712000      0.000000    0.000000      0.000000     0.766667   \n",
       "25%      13.270000     23.000000    0.000000     33.000000    15.000000   \n",
       "50%      16.940000     28.200000   26.350000     46.000000    19.433333   \n",
       "75%      20.018900     34.300000   36.666667     59.000000    23.983333   \n",
       "max      50.000000     85.370000   80.000000    165.100000    56.850000   \n",
       "\n",
       "              Peas        Barley       FallRye   CanarySeed   SpringRye  \\\n",
       "count  8134.000000  24703.000000  15847.000000  3819.000000  805.000000   \n",
       "mean     30.971982     38.022104     21.225298    19.902804    7.575776   \n",
       "std      10.223101     16.610425     10.101176     7.084164   12.473814   \n",
       "min       0.000000      0.000000      0.000000     0.120000    0.000000   \n",
       "25%      24.300000     26.000000     15.000000    15.140000    0.000000   \n",
       "50%      31.000000     37.900000     20.000000    20.000000    0.000000   \n",
       "75%      37.900000     48.750000     26.300000    24.000000   20.000000   \n",
       "max      86.800000    105.940000    108.000000    54.540000   46.500000   \n",
       "\n",
       "           TameHay          Flax   Chickpeas  \n",
       "count  4205.000000  20934.000000  960.000000  \n",
       "mean      1.181520     14.287663   23.467677  \n",
       "std       0.654725      7.082308    9.660584  \n",
       "min       0.000000      0.000000    0.516667  \n",
       "25%       0.750000      9.000000   16.666667  \n",
       "50%       1.200000     14.000000   22.941667  \n",
       "75%       1.570000     19.200000   29.704167  \n",
       "max       4.000000    110.000000   90.000000  "
      ]
     },
     "execution_count": 12,
     "metadata": {},
     "output_type": "execute_result"
    }
   ],
   "source": [
    "df_describe = df_csv.describe().copy()\n",
    "df_describe\n",
    "# Total of 25017 rows\n",
    "# Year from 1938 to 2021 ~ 84 years\n",
    "# 299 RM from 1 to 622 \n",
    "# Spring Wheat, Barley and Oats have the most rows -> more complete data?\n",
    "# Oats, Winter Wheat, Barley has the most mean -> most yield\n",
    "# Tame Hay, Spring Rye, Flax have the least mean -> least yield"
   ]
  },
  {
   "cell_type": "code",
   "execution_count": 13,
   "id": "9a3a4375",
   "metadata": {},
   "outputs": [
    {
     "data": {
      "text/plain": [
       "299"
      ]
     },
     "execution_count": 13,
     "metadata": {},
     "output_type": "execute_result"
    }
   ],
   "source": [
    "#count unique RM\n",
    "df_csv['RM'].unique()\n",
    "df_csv['RM'].nunique()"
   ]
  },
  {
   "cell_type": "code",
   "execution_count": 14,
   "id": "c546448f",
   "metadata": {},
   "outputs": [
    {
     "data": {
      "text/plain": [
       "0"
      ]
     },
     "execution_count": 14,
     "metadata": {},
     "output_type": "execute_result"
    }
   ],
   "source": [
    "#check for duplicated rows\n",
    "df_csv.duplicated().sum()"
   ]
  },
  {
   "cell_type": "code",
   "execution_count": 15,
   "id": "0da599f6",
   "metadata": {},
   "outputs": [
    {
     "data": {
      "text/plain": [
       "Year\n",
       "1991    298\n",
       "1992    297\n",
       "1993    297\n",
       "1994    297\n",
       "1995    297\n",
       "1996    297\n",
       "1997    297\n",
       "1998    297\n",
       "1999    296\n",
       "2000    296\n",
       "2001    296\n",
       "2002    296\n",
       "2003    296\n",
       "2004    296\n",
       "2005    296\n",
       "2006    296\n",
       "2007    296\n",
       "2008    296\n",
       "2009    293\n",
       "2010    295\n",
       "2011    295\n",
       "2012    295\n",
       "2013    295\n",
       "2014    295\n",
       "2015    295\n",
       "2016    295\n",
       "2017    295\n",
       "2018    295\n",
       "2019    295\n",
       "2020    295\n",
       "2021    295\n",
       "Name: RM, dtype: int64"
      ]
     },
     "execution_count": 15,
     "metadata": {},
     "output_type": "execute_result"
    }
   ],
   "source": [
    "#check how many records there are each year\n",
    "#-->not all have data for all years\n",
    "temp_df= df_csv.groupby('Year').count()['RM']\n",
    "temp_df = temp_df[temp_df!=299]\n",
    "temp_df"
   ]
  },
  {
   "cell_type": "code",
   "execution_count": 16,
   "id": "2224c6ec",
   "metadata": {},
   "outputs": [
    {
     "data": {
      "text/plain": [
       "RM\n",
       "132    83\n",
       "278    71\n",
       "408    61\n",
       "521    53\n",
       "529    54\n",
       "555    83\n",
       "Name: Year, dtype: int64"
      ]
     },
     "execution_count": 16,
     "metadata": {},
     "output_type": "execute_result"
    }
   ],
   "source": [
    "#check for RM with less than 84 years of data\n",
    "temp_df= df_csv.groupby('RM').count()['Year']\n",
    "temp_df = temp_df[temp_df!=84]\n",
    "temp_df"
   ]
  },
  {
   "cell_type": "code",
   "execution_count": 17,
   "id": "e2c5d54a",
   "metadata": {},
   "outputs": [
    {
     "data": {
      "text/html": [
       "<div>\n",
       "<style scoped>\n",
       "    .dataframe tbody tr th:only-of-type {\n",
       "        vertical-align: middle;\n",
       "    }\n",
       "\n",
       "    .dataframe tbody tr th {\n",
       "        vertical-align: top;\n",
       "    }\n",
       "\n",
       "    .dataframe thead th {\n",
       "        text-align: right;\n",
       "    }\n",
       "</style>\n",
       "<table border=\"1\" class=\"dataframe\">\n",
       "  <thead>\n",
       "    <tr style=\"text-align: right;\">\n",
       "      <th></th>\n",
       "      <th>RM</th>\n",
       "      <th>Year</th>\n",
       "      <th>Municipality</th>\n",
       "      <th>geometry</th>\n",
       "    </tr>\n",
       "  </thead>\n",
       "  <tbody>\n",
       "    <tr>\n",
       "      <th>0</th>\n",
       "      <td>132</td>\n",
       "      <td>83</td>\n",
       "      <td>HILLSBOROUGH</td>\n",
       "      <td>POLYGON ((445175.620 5573313.600, 445572.880 5...</td>\n",
       "    </tr>\n",
       "    <tr>\n",
       "      <th>1</th>\n",
       "      <td>521</td>\n",
       "      <td>53</td>\n",
       "      <td>DISTRICT OF LAKELAND</td>\n",
       "      <td>MULTIPOLYGON (((442578.660 5974009.340, 442566...</td>\n",
       "    </tr>\n",
       "    <tr>\n",
       "      <th>2</th>\n",
       "      <td>555</td>\n",
       "      <td>83</td>\n",
       "      <td>BIG RIVER</td>\n",
       "      <td>POLYGON ((382623.457 5977383.405, 382824.163 5...</td>\n",
       "    </tr>\n",
       "  </tbody>\n",
       "</table>\n",
       "</div>"
      ],
      "text/plain": [
       "    RM  Year          Municipality  \\\n",
       "0  132    83          HILLSBOROUGH   \n",
       "1  521    53  DISTRICT OF LAKELAND   \n",
       "2  555    83             BIG RIVER   \n",
       "\n",
       "                                            geometry  \n",
       "0  POLYGON ((445175.620 5573313.600, 445572.880 5...  \n",
       "1  MULTIPOLYGON (((442578.660 5974009.340, 442566...  \n",
       "2  POLYGON ((382623.457 5977383.405, 382824.163 5...  "
      ]
     },
     "execution_count": 17,
     "metadata": {},
     "output_type": "execute_result"
    }
   ],
   "source": [
    "#Municipality with less than 84 years of data\n",
    "\n",
    "pd.merge(temp_df,gdf,on='RM')"
   ]
  },
  {
   "cell_type": "code",
   "execution_count": 18,
   "id": "e0e62665",
   "metadata": {},
   "outputs": [
    {
     "data": {
      "text/plain": [
       "Int64Index([278, 408, 529], dtype='int64', name='RM')"
      ]
     },
     "execution_count": 18,
     "metadata": {},
     "output_type": "execute_result"
    }
   ],
   "source": [
    "#check for RM not in geodata\n",
    "\n",
    "temp_df= df_csv.groupby('RM').count().index\n",
    "temp_df = temp_df[~temp_df.isin(gdf['RM'])]\n",
    "temp_df\n",
    "\n",
    "#278 Kutawa, Prairie No. 408, Greenfield No. 529"
   ]
  },
  {
   "cell_type": "code",
   "execution_count": 19,
   "id": "c5a4d513",
   "metadata": {},
   "outputs": [
    {
     "data": {
      "text/html": [
       "<div>\n",
       "<style scoped>\n",
       "    .dataframe tbody tr th:only-of-type {\n",
       "        vertical-align: middle;\n",
       "    }\n",
       "\n",
       "    .dataframe tbody tr th {\n",
       "        vertical-align: top;\n",
       "    }\n",
       "\n",
       "    .dataframe thead th {\n",
       "        text-align: right;\n",
       "    }\n",
       "</style>\n",
       "<table border=\"1\" class=\"dataframe\">\n",
       "  <thead>\n",
       "    <tr style=\"text-align: right;\">\n",
       "      <th></th>\n",
       "      <th>RM</th>\n",
       "      <th>Municipality</th>\n",
       "      <th>geometry</th>\n",
       "    </tr>\n",
       "  </thead>\n",
       "  <tbody>\n",
       "    <tr>\n",
       "      <th>179</th>\n",
       "      <td>999</td>\n",
       "      <td>NORTHERN ADMIN DISTRICT</td>\n",
       "      <td>MULTIPOLYGON (((666659.844 6655115.377, 666876...</td>\n",
       "    </tr>\n",
       "    <tr>\n",
       "      <th>201</th>\n",
       "      <td>998</td>\n",
       "      <td>NORTHERN ADMIN DISTRICT</td>\n",
       "      <td>MULTIPOLYGON (((443384.000 6596155.000, 442966...</td>\n",
       "    </tr>\n",
       "  </tbody>\n",
       "</table>\n",
       "</div>"
      ],
      "text/plain": [
       "      RM             Municipality  \\\n",
       "179  999  NORTHERN ADMIN DISTRICT   \n",
       "201  998  NORTHERN ADMIN DISTRICT   \n",
       "\n",
       "                                              geometry  \n",
       "179  MULTIPOLYGON (((666659.844 6655115.377, 666876...  \n",
       "201  MULTIPOLYGON (((443384.000 6596155.000, 442966...  "
      ]
     },
     "execution_count": 19,
     "metadata": {},
     "output_type": "execute_result"
    }
   ],
   "source": [
    "#check for geodata RM not in main data set\n",
    "\n",
    "temp_df= df_csv.groupby('RM').count().index\n",
    "temp_gdf = gdf[~gdf['RM'].isin(temp_df)]\n",
    "temp_gdf"
   ]
  }
 ],
 "metadata": {
  "kernelspec": {
   "display_name": "Python 3 (ipykernel)",
   "language": "python",
   "name": "python3"
  },
  "language_info": {
   "codemirror_mode": {
    "name": "ipython",
    "version": 3
   },
   "file_extension": ".py",
   "mimetype": "text/x-python",
   "name": "python",
   "nbconvert_exporter": "python",
   "pygments_lexer": "ipython3",
   "version": "3.9.13"
  }
 },
 "nbformat": 4,
 "nbformat_minor": 5
}
