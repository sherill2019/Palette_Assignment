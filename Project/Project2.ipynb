{
 "cells": [
  {
   "cell_type": "code",
   "execution_count": null,
   "id": "b5bb15bc",
   "metadata": {},
   "outputs": [],
   "source": [
    "import numpy as np\n",
    "import pandas as pd\n",
    "import statsmodels.api as sm\n",
    "import matplotlib.pyplot as plt\n",
    "import geopandas as gpd\n",
    "import seaborn as sb\n",
    "plt.rcParams['figure.figsize'] = (4, 4)"
   ]
  },
  {
   "cell_type": "markdown",
   "id": "5efe0f00",
   "metadata": {},
   "source": [
    "# ETL (extract, transform, load)"
   ]
  },
  {
   "cell_type": "markdown",
   "id": "39edfa45",
   "metadata": {},
   "source": [
    "## load csv, shp file"
   ]
  },
  {
   "cell_type": "code",
   "execution_count": null,
   "id": "63f472c8",
   "metadata": {},
   "outputs": [],
   "source": [
    "#load into main df_csv\n",
    "df_csv = pd.read_csv('rm_crop_yields_1938_2021.csv')"
   ]
  },
  {
   "cell_type": "code",
   "execution_count": null,
   "id": "31c33aed",
   "metadata": {},
   "outputs": [],
   "source": [
    "df_csv.info()"
   ]
  },
  {
   "cell_type": "code",
   "execution_count": null,
   "id": "d8492fc8",
   "metadata": {},
   "outputs": [],
   "source": [
    "df_csv.rename(columns={\"Winter Wheat\": \"WinterWheat\", \"Spring Wheat\": \"SpringWheat\",\"Fall Rye\":\"FallRye\",\\\n",
    "             \"Canary Seed\":\"CanarySeed\",\"Spring Rye\":\"SpringRye\",\"Tame Hay\":\"TameHay\"},inplace=True)"
   ]
  },
  {
   "cell_type": "code",
   "execution_count": null,
   "id": "18ac661f",
   "metadata": {},
   "outputs": [],
   "source": [
    "#https://saskpulse.com\n",
    "#https://www.rayglen.com/grain-conversion-calculator/\n",
    "# (lbs/ac) -> Mustard (50 lbs/bu), Sunflower (30 lbs/bu), Lentils (60 lbs/bu), \n",
    "#             Canary Seeed (50 lbs/bu), Chickpeas (60lb/bu)\n",
    "\n",
    "# Tame Hay (tons/ac)\n",
    "# All the rest are bushel/acre (bu/ac)\n",
    "df_csv['Mustard']=df_csv['Mustard']/50\n",
    "df_csv['Sunflowers']=df_csv['Sunflowers']/30\n",
    "df_csv['Lentils']=df_csv['Lentils']/60\n",
    "df_csv['CanarySeed']=df_csv['CanarySeed']/50\n",
    "df_csv['Chickpeas']=df_csv['Chickpeas']/60"
   ]
  },
  {
   "cell_type": "code",
   "execution_count": null,
   "id": "3b62c007",
   "metadata": {},
   "outputs": [],
   "source": [
    "#load shp data\n",
    "gdf = gpd.read_file('Rural Municipality.shp')\n",
    "\n",
    "#drop columns that won't be using\n",
    "gdf.drop(['PPID','EFFDT','EXPDT','FEATURECD','SHAPE_AREA','SHAPE_LEN'],axis=1,inplace=True)\n",
    "\n",
    "#rename column to match with main df\n",
    "gdf.rename(columns=\n",
    "{   'RMNO': 'RM',\n",
    "    'RMNM': 'Municipality'\n",
    "}, inplace=True)\n",
    "\n",
    "#match data type between df_csv and gdf\n",
    "gdf['RM']=gdf['RM'].astype('int')\n",
    "gdf['Municipality']=gdf['Municipality'].astype('string')\n"
   ]
  },
  {
   "cell_type": "code",
   "execution_count": null,
   "id": "01fe1b2d",
   "metadata": {},
   "outputs": [],
   "source": [
    "gdf.info()"
   ]
  },
  {
   "cell_type": "markdown",
   "id": "78058650",
   "metadata": {},
   "source": [
    "# EDA (Extrapolatory Data Analysis)"
   ]
  },
  {
   "cell_type": "markdown",
   "id": "233b46cd",
   "metadata": {},
   "source": [
    "#### check for unique values"
   ]
  },
  {
   "cell_type": "code",
   "execution_count": null,
   "id": "05ccb0e4",
   "metadata": {},
   "outputs": [],
   "source": [
    "gdf['RM'].unique()\n",
    "gdf['RM'].nunique()\n",
    "#298 unique RM"
   ]
  },
  {
   "cell_type": "markdown",
   "id": "ac01f8f3",
   "metadata": {},
   "source": [
    "#### check for duplicated values"
   ]
  },
  {
   "cell_type": "code",
   "execution_count": null,
   "id": "41898397",
   "metadata": {},
   "outputs": [],
   "source": [
    "gdf.duplicated().sum()"
   ]
  },
  {
   "cell_type": "code",
   "execution_count": null,
   "id": "c3f29e4f",
   "metadata": {},
   "outputs": [],
   "source": [
    "df_describe = df_csv.describe().copy()\n",
    "df_describe\n",
    "# Total of 25017 rows\n",
    "# Year from 1938 to 2021 ~ 84 years\n",
    "# 299 RM from 1 to 622 \n",
    "# Spring Wheat, Barley and Oats have the most rows -> more complete data?\n",
    "# Oats, Winter Wheat, Barley has the most mean -> most yield\n",
    "# Tame Hay, Spring Rye, Flax have the least mean -> least yield"
   ]
  },
  {
   "cell_type": "code",
   "execution_count": null,
   "id": "9a3a4375",
   "metadata": {},
   "outputs": [],
   "source": [
    "#count unique RM\n",
    "df_csv['RM'].unique()\n",
    "df_csv['RM'].nunique()"
   ]
  },
  {
   "cell_type": "code",
   "execution_count": null,
   "id": "c546448f",
   "metadata": {},
   "outputs": [],
   "source": [
    "#check for duplicated rows\n",
    "df_csv.duplicated().sum()"
   ]
  },
  {
   "cell_type": "code",
   "execution_count": null,
   "id": "0da599f6",
   "metadata": {},
   "outputs": [],
   "source": [
    "#check how many records there are each year\n",
    "#-->not all have data for all years\n",
    "temp_df= df_csv.groupby('Year').count()['RM']\n",
    "temp_df = temp_df[temp_df!=299]\n",
    "temp_df"
   ]
  },
  {
   "cell_type": "code",
   "execution_count": null,
   "id": "2224c6ec",
   "metadata": {},
   "outputs": [],
   "source": [
    "#check for RM with less than 84 years of data\n",
    "temp_df= df_csv.groupby('RM').count()['Year']\n",
    "temp_df = temp_df[temp_df!=84]\n",
    "temp_df"
   ]
  },
  {
   "cell_type": "code",
   "execution_count": null,
   "id": "e2c5d54a",
   "metadata": {},
   "outputs": [],
   "source": [
    "#Municipality with less than 84 years of data\n",
    "\n",
    "pd.merge(temp_df,gdf,on='RM')"
   ]
  },
  {
   "cell_type": "code",
   "execution_count": null,
   "id": "e0e62665",
   "metadata": {},
   "outputs": [],
   "source": [
    "#check for RM not in geodata\n",
    "\n",
    "temp_df= df_csv.groupby('RM').count().index\n",
    "temp_df = temp_df[~temp_df.isin(gdf['RM'])]\n",
    "temp_df\n",
    "\n",
    "#278 Kutawa, Prairie No. 408, Greenfield No. 529"
   ]
  },
  {
   "cell_type": "code",
   "execution_count": null,
   "id": "c5a4d513",
   "metadata": {},
   "outputs": [],
   "source": [
    "#check for geodata RM not in main data set\n",
    "\n",
    "temp_df= df_csv.groupby('RM').count().index\n",
    "temp_gdf = gdf[~gdf['RM'].isin(temp_df)]\n",
    "temp_gdf"
   ]
  },
  {
   "cell_type": "code",
   "execution_count": null,
   "id": "701a3210",
   "metadata": {
    "scrolled": false
   },
   "outputs": [],
   "source": [
    "\n",
    "#df_csv.iloc[:,2:18].plot(x=df_csv.index, subplots=True, layout=(4,5))\n",
    "temp_df= df_csv.copy()\n",
    "temp_df['Year'] = pd.to_datetime(temp_df['Year'], format='%Y')\n",
    "temp_df= temp_df.groupby('Year').mean().copy()\n",
    "temp_df.drop(['RM'],axis=1,inplace=True)\n",
    "\n",
    "for i in temp_df.columns:\n",
    "    temp_df[i].plot(title='Average Crop per Year (1938-2021)',color=np.random.random(3))\n",
    " #   temp_df.columns.getloc(i)\n",
    "#    plt.plot(temp_df[i], lw=0.8, color=\"green\", label=temp_df[i].name)\n",
    "    plt.xticks(rotation='vertical')\n",
    "    plt.legend()\n",
    "    plt.show()"
   ]
  },
  {
   "cell_type": "markdown",
   "id": "ebf210f9",
   "metadata": {},
   "source": [
    "# Feature Selection"
   ]
  },
  {
   "cell_type": "code",
   "execution_count": null,
   "id": "5577886f",
   "metadata": {},
   "outputs": [],
   "source": [
    "sb.heatmap(\n",
    "    df_csv.corr(),\n",
    "    annot=True)\n",
    "\n",
    "#Strong correlation between Canola and Spring Wheat, Durum, Oats, Peas, Barley, Flax\n",
    "#Strong correlation between Spring Wheat and Barley, Canola, Durun, Oats, Flax\n",
    "#Strong correlation between Durum and Spring Wheat, Barley, Flax\n",
    "#Strong correlation between Sunflower and Tame Hay\n",
    "#Strong correlation between Oats and Spring Wheat, Durumn, Barley, Flax\n",
    "#Strong correlation between Peas and Canola, Spring Wheat, Barley\n",
    "#Strong correlation between Barley and Oats, Canola, Spring Wheat, Barley, Fall Rye, Flax\n",
    "#Strong correlation between Fall Rye and Spring Wheat, Barley, Flax\n",
    "#Strong correlation between Tame Hay and Sunflowers\n",
    "#Flax and Spring Wheat, Oats, Barley, Canola, Durum"
   ]
  },
  {
   "cell_type": "code",
   "execution_count": null,
   "id": "9f8557b8",
   "metadata": {
    "scrolled": true
   },
   "outputs": [],
   "source": [
    "df_csv.iloc[:,2:18].isna().sum().plot(kind='bar',ylabel='Count of missing values (1938-2021)',figsize=(6,6))"
   ]
  },
  {
   "cell_type": "code",
   "execution_count": null,
   "id": "e6682450",
   "metadata": {},
   "outputs": [],
   "source": [
    "#df_csv[df_csv['Year']>=2011].iloc[:,2:18].isna().sum().plot(kind='bar',ylabel='Count of missing values (2011-2021)',figsize=(6,6))\n",
    "\n"
   ]
  },
  {
   "cell_type": "markdown",
   "id": "a03c1730",
   "metadata": {},
   "source": [
    "# K-Means Clustering"
   ]
  },
  {
   "cell_type": "code",
   "execution_count": null,
   "id": "d49eb3d5",
   "metadata": {},
   "outputs": [],
   "source": [
    "from sklearn.cluster import KMeans\n",
    "\n",
    "def call_ElbowMethod(df_meanstd):\n",
    "\n",
    "# Define the features to be used for clustering\n",
    "    X = df_meanstd[['MeanYield', 'StdYield']]\n",
    "\n",
    "# Elbow method to determine the optimal number of clusters\n",
    "    sse = []\n",
    "    for k in range(1, 12):\n",
    "        kmeans = KMeans(n_clusters=k)\n",
    "        kmeans.fit(X)\n",
    "        sse.append(kmeans.inertia_)\n",
    "    \n",
    "# Plot the elbow graph\n",
    "    plt.plot(range(1, 12), sse)\n",
    "    plt.xlabel('Number of Clusters')\n",
    "    plt.ylabel('Sum of Squared Distances')\n",
    "    plt.show()\n",
    "    \n",
    "    return X"
   ]
  },
  {
   "cell_type": "code",
   "execution_count": null,
   "id": "04d5b05c",
   "metadata": {},
   "outputs": [],
   "source": [
    "def call_KMeans(kcluster,X):\n",
    "\n",
    "# Fit the KMeans model with the optimal number of clusters\n",
    "    kmeans = KMeans(n_clusters=kcluster)\n",
    "    kmeans.fit(X)\n",
    "\n",
    "# Predict the cluster labels for each data point\n",
    "    labels = kmeans.predict(X)\n",
    "\n",
    "# Plot the data points and cluster centers\n",
    "    plt.scatter(X['MeanYield'], X['StdYield'], c=labels)\n",
    "    plt.scatter(kmeans.cluster_centers_[:, 0], kmeans.cluster_centers_[:, 1], marker='x', s=200, linewidths=3, color='r')\n",
    "    plt.xlabel('MeanYield')\n",
    "    plt.ylabel('StdYield')\n",
    "    plt.show()\n",
    "    \n",
    "    return labels"
   ]
  },
  {
   "cell_type": "code",
   "execution_count": null,
   "id": "9d07e38a",
   "metadata": {},
   "outputs": [],
   "source": [
    "def showClusterMap(kcluster,croptype):\n",
    "\n",
    "    m=pd.merge(\n",
    "        gdf[['RM', 'Municipality', 'geometry']],\n",
    "        df_ms,\n",
    "        on='RM'\n",
    "        ).explore(\n",
    "        column='Labels', # column you want to visualize\n",
    "        cmap='YlGn', # color on the map\n",
    "        k=kcluster, # number of colors. We have 3 clusters\n",
    "        scheme='naturalbreaks', #How your legened will look like\n",
    "        tiles='Stamen Terrain', # map background type\n",
    "        tooltip=['Municipality', 'MeanYield'] # what to show when you hover around your mouse\n",
    "    )\n",
    "    m.save(\"Clustering_\"+croptype+\".html\")"
   ]
  },
  {
   "cell_type": "markdown",
   "id": "e741c8f3",
   "metadata": {},
   "source": [
    "## Clustering Spring Wheat "
   ]
  },
  {
   "cell_type": "code",
   "execution_count": null,
   "id": "3aac7b17",
   "metadata": {},
   "outputs": [],
   "source": [
    "new_df = df_csv[['Year','RM','SpringWheat']].copy()\n",
    "new_df"
   ]
  },
  {
   "cell_type": "code",
   "execution_count": null,
   "id": "58e6d972",
   "metadata": {},
   "outputs": [],
   "source": [
    "new_df.isna().sum()"
   ]
  },
  {
   "cell_type": "code",
   "execution_count": null,
   "id": "e4eb0535",
   "metadata": {},
   "outputs": [],
   "source": [
    "new_df[new_df['SpringWheat'].isna()].groupby('RM').count()"
   ]
  },
  {
   "cell_type": "code",
   "execution_count": null,
   "id": "8dea1953",
   "metadata": {},
   "outputs": [],
   "source": [
    "new_df[new_df['SpringWheat'].isna()].groupby('Year').count()"
   ]
  },
  {
   "cell_type": "code",
   "execution_count": null,
   "id": "b4218ae0",
   "metadata": {},
   "outputs": [],
   "source": [
    "temp_df = new_df[new_df['RM']==555]\n",
    "temp_df[temp_df['SpringWheat'].isna()]"
   ]
  },
  {
   "cell_type": "code",
   "execution_count": null,
   "id": "67d53df3",
   "metadata": {},
   "outputs": [],
   "source": [
    "gdf[gdf['RM']==555]"
   ]
  },
  {
   "cell_type": "code",
   "execution_count": null,
   "id": "f813c112",
   "metadata": {},
   "outputs": [],
   "source": [
    "df_mean=new_df.groupby(['RM'])['SpringWheat'].mean()\\\n",
    "    .to_frame()"
   ]
  },
  {
   "cell_type": "code",
   "execution_count": null,
   "id": "8af6a07d",
   "metadata": {},
   "outputs": [],
   "source": [
    "df_std=new_df.groupby(['RM'])['SpringWheat'].std()\\\n",
    "    .to_frame()"
   ]
  },
  {
   "cell_type": "code",
   "execution_count": null,
   "id": "3e77fc11",
   "metadata": {},
   "outputs": [],
   "source": [
    "df_ms=pd.merge(\n",
    "    df_mean.rename(columns={'SpringWheat': 'MeanYield'}),\n",
    "    df_std.rename(columns={'SpringWheat': 'StdYield'}),\n",
    "    on='RM'\n",
    ")"
   ]
  },
  {
   "cell_type": "code",
   "execution_count": null,
   "id": "69e58ee5",
   "metadata": {},
   "outputs": [],
   "source": [
    "cluster_X = call_ElbowMethod(df_ms)"
   ]
  },
  {
   "cell_type": "code",
   "execution_count": null,
   "id": "cbd42a95",
   "metadata": {},
   "outputs": [],
   "source": [
    "df_ms['Labels']=call_KMeans(3,cluster_X)"
   ]
  },
  {
   "cell_type": "code",
   "execution_count": null,
   "id": "f8da5bd7",
   "metadata": {},
   "outputs": [],
   "source": [
    "df_ms.groupby('Labels').mean()\\\n",
    "    .sort_values('MeanYield')"
   ]
  },
  {
   "cell_type": "code",
   "execution_count": null,
   "id": "20295364",
   "metadata": {},
   "outputs": [],
   "source": [
    "df_ms.replace(to_replace={\n",
    "    0:1,\n",
    "    2:0,\n",
    "    1:2}, inplace=True\n",
    ")"
   ]
  },
  {
   "cell_type": "code",
   "execution_count": null,
   "id": "519b149b",
   "metadata": {},
   "outputs": [],
   "source": [
    "showClusterMap(3,'SpringWheat')"
   ]
  },
  {
   "cell_type": "markdown",
   "id": "8f7b5629",
   "metadata": {},
   "source": [
    "## Clustering Barley"
   ]
  },
  {
   "cell_type": "code",
   "execution_count": null,
   "id": "16f337a2",
   "metadata": {},
   "outputs": [],
   "source": [
    "new_df = df_csv[['Year','RM','Barley']].copy()\n",
    "new_df"
   ]
  },
  {
   "cell_type": "code",
   "execution_count": null,
   "id": "4ff83453",
   "metadata": {},
   "outputs": [],
   "source": [
    "new_df.isna().sum()"
   ]
  },
  {
   "cell_type": "code",
   "execution_count": null,
   "id": "498b4818",
   "metadata": {},
   "outputs": [],
   "source": [
    "new_df[new_df['Barley'].isna()].groupby('RM').count()"
   ]
  },
  {
   "cell_type": "code",
   "execution_count": null,
   "id": "19db674b",
   "metadata": {},
   "outputs": [],
   "source": [
    "new_df[new_df['Barley'].isna()].groupby('Year').count()"
   ]
  },
  {
   "cell_type": "code",
   "execution_count": null,
   "id": "3d0be40e",
   "metadata": {},
   "outputs": [],
   "source": [
    "df_mean=new_df.groupby(['RM'])['Barley'].mean()\\\n",
    "    .to_frame()"
   ]
  },
  {
   "cell_type": "code",
   "execution_count": null,
   "id": "70190bd3",
   "metadata": {},
   "outputs": [],
   "source": [
    "df_std=new_df.groupby(['RM'])['Barley'].std()\\\n",
    "    .to_frame()"
   ]
  },
  {
   "cell_type": "code",
   "execution_count": null,
   "id": "bb3b118a",
   "metadata": {},
   "outputs": [],
   "source": [
    "df_ms=pd.merge(\n",
    "    df_mean.rename(columns={'Barley': 'MeanYield'}),\n",
    "    df_std.rename(columns={'Barley': 'StdYield'}),\n",
    "    on='RM'\n",
    ")"
   ]
  },
  {
   "cell_type": "code",
   "execution_count": null,
   "id": "7b115aef",
   "metadata": {},
   "outputs": [],
   "source": [
    "cluster_X = call_ElbowMethod(df_ms)"
   ]
  },
  {
   "cell_type": "code",
   "execution_count": null,
   "id": "2c737d5b",
   "metadata": {},
   "outputs": [],
   "source": [
    "df_ms['Labels']=call_KMeans(3,cluster_X)"
   ]
  },
  {
   "cell_type": "code",
   "execution_count": null,
   "id": "4f1e5ccd",
   "metadata": {},
   "outputs": [],
   "source": [
    "df_ms.groupby('Labels').mean()\\\n",
    "    .sort_values('MeanYield')"
   ]
  },
  {
   "cell_type": "code",
   "execution_count": null,
   "id": "67a535e6",
   "metadata": {},
   "outputs": [],
   "source": [
    "df_ms.replace(to_replace={\n",
    "    0:2,\n",
    "    2:0}, inplace=True\n",
    ")"
   ]
  },
  {
   "cell_type": "code",
   "execution_count": null,
   "id": "819f264f",
   "metadata": {},
   "outputs": [],
   "source": [
    "showClusterMap(3,'Barley')"
   ]
  },
  {
   "cell_type": "markdown",
   "id": "f3a1c4ca",
   "metadata": {},
   "source": [
    "## Clustering Oats"
   ]
  },
  {
   "cell_type": "code",
   "execution_count": null,
   "id": "3e7a7d6e",
   "metadata": {},
   "outputs": [],
   "source": [
    "new_df = df_csv[['Year','RM','Oats']].copy()\n",
    "new_df"
   ]
  },
  {
   "cell_type": "code",
   "execution_count": null,
   "id": "1c6ef718",
   "metadata": {},
   "outputs": [],
   "source": [
    "new_df.isna().sum()"
   ]
  },
  {
   "cell_type": "code",
   "execution_count": null,
   "id": "028eb4b8",
   "metadata": {},
   "outputs": [],
   "source": [
    "new_df[new_df['Oats'].isna()].groupby('RM').count()"
   ]
  },
  {
   "cell_type": "code",
   "execution_count": null,
   "id": "abbdc70e",
   "metadata": {},
   "outputs": [],
   "source": [
    "new_df[new_df['Oats'].isna()].groupby('Year').count()"
   ]
  },
  {
   "cell_type": "code",
   "execution_count": null,
   "id": "0b81ab7a",
   "metadata": {},
   "outputs": [],
   "source": [
    "df_mean=new_df.groupby(['RM'])['Oats'].mean()\\\n",
    "    .to_frame()"
   ]
  },
  {
   "cell_type": "code",
   "execution_count": null,
   "id": "bd2e8fd5",
   "metadata": {},
   "outputs": [],
   "source": [
    "df_std=new_df.groupby(['RM'])['Oats'].std()\\\n",
    "    .to_frame()"
   ]
  },
  {
   "cell_type": "code",
   "execution_count": null,
   "id": "a23362a6",
   "metadata": {},
   "outputs": [],
   "source": [
    "df_ms=pd.merge(\n",
    "    df_mean.rename(columns={'Oats': 'MeanYield'}),\n",
    "    df_std.rename(columns={'Oats': 'StdYield'}),\n",
    "    on='RM'\n",
    ")"
   ]
  },
  {
   "cell_type": "code",
   "execution_count": null,
   "id": "3f7e2acd",
   "metadata": {},
   "outputs": [],
   "source": [
    "cluster_X = call_ElbowMethod(df_ms)"
   ]
  },
  {
   "cell_type": "code",
   "execution_count": null,
   "id": "b6fb3d85",
   "metadata": {},
   "outputs": [],
   "source": [
    "df_ms['Labels']=call_KMeans(3,cluster_X)"
   ]
  },
  {
   "cell_type": "code",
   "execution_count": null,
   "id": "61520623",
   "metadata": {},
   "outputs": [],
   "source": [
    "df_ms.groupby('Labels').mean()\\\n",
    "    .sort_values('MeanYield')"
   ]
  },
  {
   "cell_type": "code",
   "execution_count": null,
   "id": "47eccd06",
   "metadata": {},
   "outputs": [],
   "source": [
    "df_ms.replace(to_replace={\n",
    "    1:2,\n",
    "    0:1,\n",
    "    2:0}, inplace=True\n",
    ")"
   ]
  },
  {
   "cell_type": "code",
   "execution_count": null,
   "id": "596e17d6",
   "metadata": {},
   "outputs": [],
   "source": [
    "showClusterMap(3,'Oats')"
   ]
  },
  {
   "cell_type": "code",
   "execution_count": null,
   "id": "b1be2ed5",
   "metadata": {},
   "outputs": [],
   "source": []
  }
 ],
 "metadata": {
  "kernelspec": {
   "display_name": "Python 3 (ipykernel)",
   "language": "python",
   "name": "python3"
  },
  "language_info": {
   "codemirror_mode": {
    "name": "ipython",
    "version": 3
   },
   "file_extension": ".py",
   "mimetype": "text/x-python",
   "name": "python",
   "nbconvert_exporter": "python",
   "pygments_lexer": "ipython3",
   "version": "3.9.13"
  }
 },
 "nbformat": 4,
 "nbformat_minor": 5
}
