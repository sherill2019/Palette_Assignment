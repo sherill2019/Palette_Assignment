{
 "cells": [
  {
   "cell_type": "code",
   "execution_count": 1,
   "id": "a873fb44",
   "metadata": {},
   "outputs": [],
   "source": [
    "import numpy as np\n",
    "import pandas as pd\n",
    "import statsmodels.api as sm\n",
    "import matplotlib.pyplot as plt\n",
    "import geopandas as gpd\n",
    "import seaborn as sb\n",
    "plt.rcParams['figure.figsize'] = (20, 12)"
   ]
  },
  {
   "cell_type": "markdown",
   "id": "5efe0f00",
   "metadata": {},
   "source": [
    "# ETL (extract, transform, load)"
   ]
  },
  {
   "cell_type": "markdown",
   "id": "39edfa45",
   "metadata": {},
   "source": [
    "## load csv, shp file"
   ]
  },
  {
   "cell_type": "code",
   "execution_count": 3,
   "id": "63f472c8",
   "metadata": {},
   "outputs": [],
   "source": [
    "#load into main df_csv\n",
    "df_csv = pd.read_csv('rm_crop_yields_1938_2021.csv')"
   ]
  },
  {
   "cell_type": "code",
   "execution_count": 4,
   "id": "31c33aed",
   "metadata": {},
   "outputs": [
    {
     "name": "stdout",
     "output_type": "stream",
     "text": [
      "<class 'pandas.core.frame.DataFrame'>\n",
      "RangeIndex: 25017 entries, 0 to 25016\n",
      "Data columns (total 18 columns):\n",
      " #   Column        Non-Null Count  Dtype  \n",
      "---  ------        --------------  -----  \n",
      " 0   Year          25017 non-null  int64  \n",
      " 1   RM            25017 non-null  int64  \n",
      " 2   Winter Wheat  3037 non-null   float64\n",
      " 3   Canola        14008 non-null  float64\n",
      " 4   Spring Wheat  24924 non-null  float64\n",
      " 5   Mustard       4487 non-null   float64\n",
      " 6   Durum         11581 non-null  float64\n",
      " 7   Sunflowers    946 non-null    float64\n",
      " 8   Oats          23913 non-null  float64\n",
      " 9   Lentils       5515 non-null   float64\n",
      " 10  Peas          8134 non-null   float64\n",
      " 11  Barley        24703 non-null  float64\n",
      " 12  Fall Rye      15847 non-null  float64\n",
      " 13  Canary Seed   3819 non-null   float64\n",
      " 14  Spring Rye    805 non-null    float64\n",
      " 15  Tame Hay      4205 non-null   float64\n",
      " 16  Flax          20934 non-null  float64\n",
      " 17  Chickpeas     960 non-null    float64\n",
      "dtypes: float64(16), int64(2)\n",
      "memory usage: 3.4 MB\n"
     ]
    }
   ],
   "source": [
    "df_csv.info()"
   ]
  },
  {
   "cell_type": "code",
   "execution_count": 5,
   "id": "d8492fc8",
   "metadata": {},
   "outputs": [],
   "source": [
    "df_csv.rename(columns={\"Winter Wheat\": \"WinterWheat\", \"Spring Wheat\": \"SpringWheat\",\"Fall Rye\":\"FallRye\",\\\n",
    "             \"Canary Seed\":\"CanarySeed\",\"Spring Rye\":\"SpringRye\",\"Tame Hay\":\"TameHay\"},inplace=True)"
   ]
  },
  {
   "cell_type": "code",
   "execution_count": 6,
   "id": "18ac661f",
   "metadata": {},
   "outputs": [],
   "source": [
    "#https://saskpulse.com\n",
    "#https://www.rayglen.com/grain-conversion-calculator/\n",
    "# (lbs/ac) -> Mustard (50 lbs/bu), Sunflower (30 lbs/bu), Lentils (60 lbs/bu), \n",
    "#             Canary Seeed (50 lbs/bu), Chickpeas (60lb/bu)\n",
    "\n",
    "# Tame Hay (tons/ac)\n",
    "# All the rest are bushel/acre (bu/ac)\n",
    "df_csv['Mustard']=df_csv['Mustard']/50\n",
    "df_csv['Sunflowers']=df_csv['Sunflowers']/30\n",
    "df_csv['Lentils']=df_csv['Lentils']/60\n",
    "df_csv['CanarySeed']=df_csv['CanarySeed']/50\n",
    "df_csv['Chickpeas']=df_csv['Chickpeas']/60"
   ]
  },
  {
   "cell_type": "code",
   "execution_count": 7,
   "id": "3b62c007",
   "metadata": {},
   "outputs": [],
   "source": [
    "#load shp data\n",
    "gdf = gpd.read_file('Rural Municipality.shp')\n",
    "\n",
    "#drop columns that won't be using\n",
    "gdf.drop(['PPID','EFFDT','EXPDT','FEATURECD','SHAPE_AREA','SHAPE_LEN'],axis=1,inplace=True)\n",
    "\n",
    "#rename column to match with main df\n",
    "gdf.rename(columns=\n",
    "{   'RMNO': 'RM',\n",
    "    'RMNM': 'Municipality'\n",
    "}, inplace=True)\n",
    "\n",
    "#match data type between df_csv and gdf\n",
    "gdf['RM']=gdf['RM'].astype('int')\n",
    "gdf['Municipality']=gdf['Municipality'].astype('string')\n"
   ]
  },
  {
   "cell_type": "code",
   "execution_count": 8,
   "id": "01fe1b2d",
   "metadata": {},
   "outputs": [
    {
     "name": "stdout",
     "output_type": "stream",
     "text": [
      "<class 'geopandas.geodataframe.GeoDataFrame'>\n",
      "RangeIndex: 298 entries, 0 to 297\n",
      "Data columns (total 3 columns):\n",
      " #   Column        Non-Null Count  Dtype   \n",
      "---  ------        --------------  -----   \n",
      " 0   RM            298 non-null    int64   \n",
      " 1   Municipality  298 non-null    string  \n",
      " 2   geometry      298 non-null    geometry\n",
      "dtypes: geometry(1), int64(1), string(1)\n",
      "memory usage: 7.1 KB\n"
     ]
    }
   ],
   "source": [
    "gdf.info()"
   ]
  },
  {
   "cell_type": "code",
   "execution_count": null,
   "id": "d460899c",
   "metadata": {},
   "outputs": [],
   "source": []
  }
 ],
 "metadata": {
  "kernelspec": {
   "display_name": "Python 3 (ipykernel)",
   "language": "python",
   "name": "python3"
  },
  "language_info": {
   "codemirror_mode": {
    "name": "ipython",
    "version": 3
   },
   "file_extension": ".py",
   "mimetype": "text/x-python",
   "name": "python",
   "nbconvert_exporter": "python",
   "pygments_lexer": "ipython3",
   "version": "3.9.13"
  }
 },
 "nbformat": 4,
 "nbformat_minor": 5
}
