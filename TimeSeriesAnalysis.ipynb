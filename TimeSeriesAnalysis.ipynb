{
 "cells": [
  {
   "cell_type": "code",
   "execution_count": null,
   "id": "a873fb44",
   "metadata": {},
   "outputs": [],
   "source": [
    "import numpy as np\n",
    "import pandas as pd\n",
    "import statsmodels.api as sm\n",
    "import matplotlib.pyplot as plt\n",
    "import geopandas as gpd\n",
    "import seaborn as sb\n",
    "plt.rcParams['figure.figsize'] = (4, 4)"
   ]
  },
  {
   "cell_type": "markdown",
   "id": "5efe0f00",
   "metadata": {},
   "source": [
    "# ETL (extract, transform, load)"
   ]
  },
  {
   "cell_type": "markdown",
   "id": "39edfa45",
   "metadata": {},
   "source": [
    "## load csv, shp file"
   ]
  },
  {
   "cell_type": "code",
   "execution_count": null,
   "id": "63f472c8",
   "metadata": {},
   "outputs": [],
   "source": [
    "#load into main df_csv\n",
    "df_csv = pd.read_csv('rm_crop_yields_1938_2021.csv')"
   ]
  },
  {
   "cell_type": "code",
   "execution_count": null,
   "id": "31c33aed",
   "metadata": {},
   "outputs": [],
   "source": [
    "df_csv.info()"
   ]
  },
  {
   "cell_type": "code",
   "execution_count": null,
   "id": "d8492fc8",
   "metadata": {},
   "outputs": [],
   "source": [
    "df_csv.rename(columns={\"Winter Wheat\": \"WinterWheat\", \"Spring Wheat\": \"SpringWheat\",\"Fall Rye\":\"FallRye\",\\\n",
    "             \"Canary Seed\":\"CanarySeed\",\"Spring Rye\":\"SpringRye\",\"Tame Hay\":\"TameHay\"},inplace=True)"
   ]
  },
  {
   "cell_type": "code",
   "execution_count": null,
   "id": "18ac661f",
   "metadata": {},
   "outputs": [],
   "source": [
    "#https://saskpulse.com\n",
    "#https://www.rayglen.com/grain-conversion-calculator/\n",
    "# (lbs/ac) -> Mustard (50 lbs/bu), Sunflower (30 lbs/bu), Lentils (60 lbs/bu), \n",
    "#             Canary Seeed (50 lbs/bu), Chickpeas (60lb/bu)\n",
    "\n",
    "# Tame Hay (tons/ac)\n",
    "# All the rest are bushel/acre (bu/ac)\n",
    "df_csv['Mustard']=df_csv['Mustard']/50\n",
    "df_csv['Sunflowers']=df_csv['Sunflowers']/30\n",
    "df_csv['Lentils']=df_csv['Lentils']/60\n",
    "df_csv['CanarySeed']=df_csv['CanarySeed']/50\n",
    "df_csv['Chickpeas']=df_csv['Chickpeas']/60"
   ]
  },
  {
   "cell_type": "code",
   "execution_count": null,
   "id": "3b62c007",
   "metadata": {},
   "outputs": [],
   "source": [
    "#load shp data\n",
    "gdf = gpd.read_file('Rural Municipality.shp')\n",
    "\n",
    "#drop columns that won't be using\n",
    "gdf.drop(['PPID','EFFDT','EXPDT','FEATURECD','SHAPE_AREA','SHAPE_LEN'],axis=1,inplace=True)\n",
    "\n",
    "#rename column to match with main df\n",
    "gdf.rename(columns=\n",
    "{   'RMNO': 'RM',\n",
    "    'RMNM': 'Municipality'\n",
    "}, inplace=True)\n",
    "\n",
    "#match data type between df_csv and gdf\n",
    "gdf['RM']=gdf['RM'].astype('int')\n",
    "gdf['Municipality']=gdf['Municipality'].astype('string')\n"
   ]
  },
  {
   "cell_type": "code",
   "execution_count": null,
   "id": "01fe1b2d",
   "metadata": {},
   "outputs": [],
   "source": [
    "gdf.info()"
   ]
  },
  {
   "cell_type": "markdown",
   "id": "78058650",
   "metadata": {},
   "source": [
    "# EDA (Extrapolatory Data Analysis)"
   ]
  },
  {
   "cell_type": "markdown",
   "id": "233b46cd",
   "metadata": {},
   "source": [
    "#### check for unique values"
   ]
  },
  {
   "cell_type": "code",
   "execution_count": null,
   "id": "05ccb0e4",
   "metadata": {},
   "outputs": [],
   "source": [
    "gdf['RM'].unique()\n",
    "gdf['RM'].nunique()\n",
    "#298 unique RM"
   ]
  },
  {
   "cell_type": "markdown",
   "id": "ac01f8f3",
   "metadata": {},
   "source": [
    "#### check for duplicated values"
   ]
  },
  {
   "cell_type": "code",
   "execution_count": null,
   "id": "41898397",
   "metadata": {},
   "outputs": [],
   "source": [
    "gdf.duplicated().sum()"
   ]
  },
  {
   "cell_type": "code",
   "execution_count": null,
   "id": "c3f29e4f",
   "metadata": {},
   "outputs": [],
   "source": [
    "df_describe = df_csv.describe().copy()\n",
    "df_describe\n",
    "# Total of 25017 rows\n",
    "# Year from 1938 to 2021 ~ 84 years\n",
    "# 299 RM from 1 to 622 \n",
    "# Spring Wheat, Barley and Oats have the most rows -> more complete data?\n",
    "# Oats, Winter Wheat, Barley has the most mean -> most yield\n",
    "# Tame Hay, Spring Rye, Flax have the least mean -> least yield"
   ]
  },
  {
   "cell_type": "code",
   "execution_count": null,
   "id": "9a3a4375",
   "metadata": {},
   "outputs": [],
   "source": [
    "#count unique RM\n",
    "df_csv['RM'].unique()\n",
    "df_csv['RM'].nunique()"
   ]
  },
  {
   "cell_type": "code",
   "execution_count": null,
   "id": "c546448f",
   "metadata": {},
   "outputs": [],
   "source": [
    "#check for duplicated rows\n",
    "df_csv.duplicated().sum()"
   ]
  },
  {
   "cell_type": "code",
   "execution_count": null,
   "id": "0da599f6",
   "metadata": {},
   "outputs": [],
   "source": [
    "#check how many records there are each year\n",
    "#-->not all have data for all years\n",
    "temp_df= df_csv.groupby('Year').count()['RM']\n",
    "temp_df = temp_df[temp_df!=299]\n",
    "temp_df"
   ]
  },
  {
   "cell_type": "code",
   "execution_count": null,
   "id": "2224c6ec",
   "metadata": {},
   "outputs": [],
   "source": [
    "#check for RM with less than 84 years of data\n",
    "temp_df= df_csv.groupby('RM').count()['Year']\n",
    "temp_df = temp_df[temp_df!=84]\n",
    "temp_df"
   ]
  },
  {
   "cell_type": "code",
   "execution_count": null,
   "id": "e2c5d54a",
   "metadata": {},
   "outputs": [],
   "source": [
    "#Municipality with less than 84 years of data\n",
    "\n",
    "pd.merge(temp_df,gdf,on='RM')"
   ]
  },
  {
   "cell_type": "code",
   "execution_count": null,
   "id": "e0e62665",
   "metadata": {},
   "outputs": [],
   "source": [
    "#check for RM not in geodata\n",
    "\n",
    "temp_df= df_csv.groupby('RM').count().index\n",
    "temp_df = temp_df[~temp_df.isin(gdf['RM'])]\n",
    "temp_df\n",
    "\n",
    "#278 Kutawa, Prairie No. 408, Greenfield No. 529"
   ]
  },
  {
   "cell_type": "code",
   "execution_count": null,
   "id": "c5a4d513",
   "metadata": {},
   "outputs": [],
   "source": [
    "#check for geodata RM not in main data set\n",
    "\n",
    "temp_df= df_csv.groupby('RM').count().index\n",
    "temp_gdf = gdf[~gdf['RM'].isin(temp_df)]\n",
    "temp_gdf"
   ]
  },
  {
   "cell_type": "markdown",
   "id": "2a36f322",
   "metadata": {},
   "source": [
    "## Time Series Analysis"
   ]
  },
  {
   "cell_type": "code",
   "execution_count": null,
   "id": "48c40c2b",
   "metadata": {},
   "outputs": [],
   "source": [
    "df_csv.groupby('RM').mean().sort_values('SpringWheat',ascending=False)"
   ]
  },
  {
   "cell_type": "code",
   "execution_count": null,
   "id": "8f20429b",
   "metadata": {},
   "outputs": [],
   "source": [
    "df_csv.groupby('RM').mean().sort_values('Barley',ascending=False)"
   ]
  },
  {
   "cell_type": "code",
   "execution_count": null,
   "id": "8be7ddf6",
   "metadata": {
    "scrolled": true
   },
   "outputs": [],
   "source": [
    "df_csv.groupby('RM').mean().sort_values('Oats',ascending=False)"
   ]
  },
  {
   "cell_type": "markdown",
   "id": "04cec67a",
   "metadata": {},
   "source": [
    "## Forecast for RM429"
   ]
  },
  {
   "cell_type": "code",
   "execution_count": null,
   "id": "926eba49",
   "metadata": {},
   "outputs": [],
   "source": [
    "df_RM_429 = df_csv.loc[df_csv['RM']==429][['Year','SpringWheat','Barley','Oats']]"
   ]
  },
  {
   "cell_type": "code",
   "execution_count": null,
   "id": "b4fcb6c2",
   "metadata": {},
   "outputs": [],
   "source": [
    "df_RM_SpringWheat =df_csv.loc[df_csv['RM']==429][['Year', 'SpringWheat']]\n",
    "df_RM_Barley =df_csv.loc[df_csv['RM']==429][['Year', 'Barley']]\n",
    "df_RM_Oats =df_csv.loc[df_csv['RM']==429][['Year', 'Oats']]"
   ]
  },
  {
   "cell_type": "code",
   "execution_count": null,
   "id": "3fff0ee6",
   "metadata": {},
   "outputs": [],
   "source": [
    "df_RM_SpringWheat['Year'] = pd.to_datetime(df_RM_SpringWheat['Year'], format='%Y')\n",
    "df_RM_SpringWheat = df_RM_SpringWheat.set_index('Year')\n",
    "\n",
    "df_RM_Barley['Year'] = pd.to_datetime(df_RM_Barley['Year'], format='%Y')\n",
    "df_RM_Barley = df_RM_Barley.set_index('Year')\n",
    "\n",
    "df_RM_Oats['Year'] = pd.to_datetime(df_RM_Barley['Year'], format='%Y')\n",
    "df_RM_Oats = df_RM_Barley.set_index('Year')"
   ]
  },
  {
   "cell_type": "code",
   "execution_count": null,
   "id": "e1c6d08e",
   "metadata": {},
   "outputs": [],
   "source": [
    "df_RM_429['Year'] = pd.to_datetime(df_RM_429['Year'], format='%Y')\n",
    "df_RM_429 = df_RM_429.set_index('Year')\n",
    "df_RM_429"
   ]
  },
  {
   "cell_type": "code",
   "execution_count": null,
   "id": "067f8b63",
   "metadata": {},
   "outputs": [],
   "source": [
    "#fig, ax = plt.subplots(figsize=(6,6))\n",
    "\n",
    "plt.plot(df_RM_429.index,df_RM_429['SpringWheat'], lw=0.8, color=\"blue\", label=\"Spring Wheat\")\n",
    "plt.plot(df_RM_429.index,df_RM_429['Barley'], lw=0.8, color=\"orange\", label=\"Barley\")\n",
    "plt.plot(df_RM_429.index,df_RM_429['Oats'], lw=0.8, color=\"green\", label=\"Oats\")\n",
    "\n",
    "\n",
    "plt.legend()\n",
    "plt.show"
   ]
  },
  {
   "cell_type": "code",
   "execution_count": null,
   "id": "0642083a",
   "metadata": {},
   "outputs": [],
   "source": [
    "X = df_RM_429['SpringWheat']\n",
    "split = round(len(X) / 2)\n",
    "X1, X2 = X[0:split], X[split:]\n",
    "mean1, mean2 = X1.mean(), X2.mean()\n",
    "var1, var2 = X1.var(), X2.var()\n",
    "print('mean1=%f, mean2=%f' % (mean1, mean2))\n",
    "print('variance1=%f, variance2=%f' % (var1, var2))"
   ]
  },
  {
   "cell_type": "markdown",
   "id": "778736f2",
   "metadata": {},
   "source": []
  },
  {
   "cell_type": "markdown",
   "id": "30d61c85",
   "metadata": {},
   "source": [
    "# Time Forecasting Model"
   ]
  },
  {
   "cell_type": "markdown",
   "id": "c44f043c",
   "metadata": {},
   "source": [
    "#### Mean Absolute Percentage Error"
   ]
  },
  {
   "cell_type": "code",
   "execution_count": null,
   "id": "e8276599",
   "metadata": {},
   "outputs": [],
   "source": [
    "def mape(y_true, y_pred):\n",
    "    return round(np.mean(np.abs((y_true - y_pred) / y_true)) * 100, 2)\n",
    "    "
   ]
  },
  {
   "cell_type": "markdown",
   "id": "1884ecfe",
   "metadata": {},
   "source": [
    "#### Ad Fuller Test"
   ]
  },
  {
   "cell_type": "code",
   "execution_count": null,
   "id": "4f985300",
   "metadata": {},
   "outputs": [],
   "source": [
    "# Import adfuller\n",
    "from statsmodels.tsa.stattools import adfuller\n",
    "\n",
    "def adf_test(df_test):\n",
    "    result = adfuller(df_RM_429['SpringWheat'])\n",
    "    print('ADF Test Statistic: %.2f' % result[0])\n",
    "    print('#Lags Used: '+str(result[2]))\n",
    "    print('5%% Critical Value: %.2f' % result[4]['5%'])\n",
    "    print('p-value: %.2f' % result[1])\n"
   ]
  },
  {
   "cell_type": "code",
   "execution_count": null,
   "id": "5bed4214",
   "metadata": {},
   "outputs": [],
   "source": [
    "adf_test(df_RM_429['SpringWheat'])"
   ]
  },
  {
   "cell_type": "markdown",
   "id": "bb3b55d6",
   "metadata": {},
   "source": [
    "#### Seasonal Decompose"
   ]
  },
  {
   "cell_type": "code",
   "execution_count": null,
   "id": "03b20d25",
   "metadata": {},
   "outputs": [],
   "source": [
    "from statsmodels.tsa.seasonal import seasonal_decompose\n",
    "decomposition = seasonal_decompose(df_RM_429['SpringWheat'])  \n",
    "figure = plt.figure()  \n",
    "figure = decomposition.plot()  \n",
    "figure.set_size_inches(15, 8)"
   ]
  },
  {
   "cell_type": "code",
   "execution_count": null,
   "id": "89432642",
   "metadata": {},
   "outputs": [],
   "source": [
    "from statsmodels.tsa.stattools import adfuller\n",
    "def test_stationarity(timeseries):\n",
    "    \n",
    "    #Determing rolling statistics\n",
    "    rolmean = timeseries.rolling(window=2).mean()\n",
    "    rolstd = timeseries.rolling(window=2).std()\n",
    "\n",
    "    #Plot rolling statistics:\n",
    "    orig = plt.plot(timeseries, color='blue',label='Original')\n",
    "    mean = plt.plot(rolmean, color='red', label='Rolling Mean')\n",
    "    std = plt.plot(rolstd, color='black', label = 'Rolling Std')\n",
    "    plt.legend(loc='best')\n",
    "    plt.title('Rolling Mean & Standard Deviation')\n",
    "    plt.show(block=False)\n",
    "    \n",
    "    #Perform Dickey-Fuller test:\n",
    "    print('Results of Dickey-Fuller Test:')\n",
    "    dftest = adfuller(timeseries, autolag='AIC')\n",
    "    dfoutput = pd.Series(dftest[0:4], index=['Test Statistic','p-value','#Lags Used','Number of Observations Used'])\n",
    "    for key,value in dftest[4].items():\n",
    "        dfoutput['Critical Value (%s)'%key] = value\n",
    "    print(dfoutput)\n",
    "    \n",
    "# test_stationarity(df_RM_429['SpringWheat'])"
   ]
  },
  {
   "cell_type": "markdown",
   "id": "376ed1d4",
   "metadata": {},
   "source": [
    "#### Train and Test data split at 2011"
   ]
  },
  {
   "cell_type": "code",
   "execution_count": null,
   "id": "6cd13cda",
   "metadata": {},
   "outputs": [],
   "source": [
    "train = df_RM_429[:'2010-01-01']['SpringWheat']    # until 2010\n",
    "len(train)\n",
    "\n",
    "test = df_RM_429['2011-01-01':]['SpringWheat']     # from 2011\n",
    "len(test) "
   ]
  },
  {
   "cell_type": "markdown",
   "id": "c09bf973",
   "metadata": {},
   "source": [
    "## Simple Exponential Smoothing"
   ]
  },
  {
   "cell_type": "code",
   "execution_count": null,
   "id": "f001eec0",
   "metadata": {},
   "outputs": [],
   "source": [
    "from statsmodels.tsa.api import SimpleExpSmoothing\n",
    "#import plotly.express as px\n",
    "\n",
    "alpha = 0.8\n",
    "ses = SimpleExpSmoothing(df_RM_429['SpringWheat'])\n",
    "model = ses.fit(smoothing_level = alpha, optimized = False)\n",
    "\n",
    "forecast = model.forecast(5)\n",
    "\n",
    "forecast"
   ]
  },
  {
   "cell_type": "code",
   "execution_count": null,
   "id": "50ba4d2f",
   "metadata": {},
   "outputs": [],
   "source": [
    "fit1 = SimpleExpSmoothing(df_RM_429['SpringWheat'], initialization_method=\"heuristic\").fit(\n",
    "    smoothing_level=0.2, optimized=False\n",
    ")\n",
    "fcast1 = fit1.forecast(3).rename(r\"$\\alpha=0.2$\")\n",
    "fit2 = SimpleExpSmoothing(df_RM_429['SpringWheat'], initialization_method=\"heuristic\").fit(\n",
    "    smoothing_level=0.6, optimized=False\n",
    ")\n",
    "fcast2 = fit2.forecast(3).rename(r\"$\\alpha=0.6$\")\n",
    "fit3 = SimpleExpSmoothing(df_RM_429['SpringWheat'], initialization_method=\"estimated\").fit()\n",
    "fcast3 = fit3.forecast(3).rename(r\"$\\alpha=%s$\" % fit3.model.params[\"smoothing_level\"])\n",
    "\n",
    "plt.figure(figsize=(12, 8))\n",
    "plt.plot(df_RM_429['SpringWheat'], marker=\"o\", color=\"black\")\n",
    "plt.plot(fit1.fittedvalues, marker=\"o\", color=\"blue\")\n",
    "(line1,) = plt.plot(fcast1, marker=\"o\", color=\"blue\")\n",
    "plt.plot(fit2.fittedvalues, marker=\"o\", color=\"red\")\n",
    "(line2,) = plt.plot(fcast2, marker=\"o\", color=\"red\")\n",
    "plt.plot(fit3.fittedvalues, marker=\"o\", color=\"green\")\n",
    "(line3,) = plt.plot(fcast3, marker=\"o\", color=\"green\")\n",
    "plt.legend([line1, line2, line3], [fcast1.name, fcast2.name, fcast3.name])"
   ]
  },
  {
   "cell_type": "code",
   "execution_count": null,
   "id": "607b965c",
   "metadata": {},
   "outputs": [],
   "source": [
    "from sklearn.metrics import mean_absolute_error\n",
    "\n",
    "ses_model = SimpleExpSmoothing(train).fit(smoothing_level=0.2)\n",
    "\n",
    "y_pred = ses_model.forecast(len(test))\n",
    "\n",
    "ses_mape = mape(test, y_pred)\n",
    "\n",
    "print(f'Simple Exponential Smoothing: {ses_mape}%')\n"
   ]
  },
  {
   "cell_type": "code",
   "execution_count": null,
   "id": "ab20047d",
   "metadata": {},
   "outputs": [],
   "source": [
    "train.plot(title=\"Spring Wheat (Single Exponential Smoothing)\",label='train')\n",
    "test.plot(label='test')\n",
    "y_pred.plot(label='pred')\n",
    "plt.xticks(rotation='vertical')\n",
    "plt.legend()\n",
    "plt.show()"
   ]
  },
  {
   "cell_type": "markdown",
   "id": "af5ae11c",
   "metadata": {},
   "source": [
    "## Double Exponential Smoothing"
   ]
  },
  {
   "cell_type": "code",
   "execution_count": null,
   "id": "48f41fe8",
   "metadata": {},
   "outputs": [],
   "source": [
    "from statsmodels.tsa.holtwinters import ExponentialSmoothing\n",
    "double_model = ExponentialSmoothing(train,trend='add').fit()\n",
    "y_pred = double_model.forecast(11).rename('DES Forecast')"
   ]
  },
  {
   "cell_type": "code",
   "execution_count": null,
   "id": "f8ab65bf",
   "metadata": {},
   "outputs": [],
   "source": [
    "#train_data['#Passengers'].plot(legend=True,label='TRAIN')\n",
    "#test_data['#Passengers'].plot(legend=True,label='TEST',figsize=(12,8))\n",
    "#test_predictions.plot(legend=True,label='PREDICTION');\n",
    "\n",
    "plt.plot(train,color='blue',label='Train',title = 'Double Exponential Smoothing' )\n",
    "plt.plot(test, color='red',label='Test')\n",
    "plt.plot(y_pred,color='green',label='Forecast')\n",
    "plt.xticks(rotation='vertical')\n",
    "plt.legend()\n",
    "plt.show()"
   ]
  },
  {
   "cell_type": "code",
   "execution_count": null,
   "id": "fce5c475",
   "metadata": {},
   "outputs": [],
   "source": [
    "ar_mape = mape(test, y_pred)\n",
    "print(f'Double Exponential Smoothing: {ar_mape}%')"
   ]
  },
  {
   "cell_type": "markdown",
   "id": "0f2dfb4e",
   "metadata": {},
   "source": [
    "## Triple Exponential Smoothing"
   ]
  },
  {
   "cell_type": "code",
   "execution_count": null,
   "id": "0059a519",
   "metadata": {},
   "outputs": [],
   "source": [
    "triple_model = ExponentialSmoothing(train,trend='add',seasonal='add',seasonal_periods=12).fit()\n",
    "y_pred = triple_model.forecast(11).rename('TES Forecast')"
   ]
  },
  {
   "cell_type": "code",
   "execution_count": null,
   "id": "cd40e654",
   "metadata": {},
   "outputs": [],
   "source": [
    "#train_data['#Passengers'].plot(legend=True,label='TRAIN')\n",
    "#test_data['#Passengers'].plot(legend=True,label='TEST',figsize=(12,8))\n",
    "#test_predictions.plot(legend=True,label='PREDICTION');\n",
    "\n",
    "plt.plot(train,color='blue',label='Train',title='Triple Exponential Smoothing' )\n",
    "plt.plot(test, color='red',label='Test')\n",
    "plt.plot(y_pred,color='green',label='Forecast')\n",
    "plt.xticks(rotation='vertical')\n",
    "plt.legend()\n",
    "plt.show()"
   ]
  },
  {
   "cell_type": "code",
   "execution_count": null,
   "id": "ee03a9eb",
   "metadata": {},
   "outputs": [],
   "source": [
    "ar_mape = mape(test, y_pred)\n",
    "print(f'Triple Exponential Smoothing: {ar_mape}%')"
   ]
  },
  {
   "cell_type": "markdown",
   "id": "7df1a169",
   "metadata": {},
   "source": [
    "## Autoregression"
   ]
  },
  {
   "cell_type": "code",
   "execution_count": null,
   "id": "61f6f1b7",
   "metadata": {},
   "outputs": [],
   "source": [
    "from pandas.plotting import lag_plot\n",
    "lag_plot(df_RM_429['SpringWheat'])\n",
    "plt.show()"
   ]
  },
  {
   "cell_type": "code",
   "execution_count": null,
   "id": "27b41a1f",
   "metadata": {},
   "outputs": [],
   "source": [
    "from statsmodels.graphics.tsaplots import plot_acf\n",
    "plot_acf(df_RM_429['SpringWheat'])"
   ]
  },
  {
   "cell_type": "code",
   "execution_count": null,
   "id": "dc838903",
   "metadata": {},
   "outputs": [],
   "source": [
    "from statsmodels.tsa.ar_model import AutoReg\n",
    "\n",
    "# train autoregression\n",
    "ar_model = AutoReg(train.dropna(),lags=1).fit()\n",
    "print(ar_model.summary())"
   ]
  },
  {
   "cell_type": "code",
   "execution_count": null,
   "id": "d515ec0b",
   "metadata": {},
   "outputs": [],
   "source": [
    "#\n",
    "# Make the predictions\n",
    "#\n",
    "y_pred = ar_model.predict(start=len(train), end=(len(df_RM_429)-1), dynamic=False)\n",
    "#\n",
    "# Plot the prediction vs test data\n",
    "#\n",
    "from matplotlib import pyplot\n",
    "plt.plot(train,color='blue',label='Train' )\n",
    "plt.plot(test, color='red',label='Test')\n",
    "plt.plot(y_pred,color='green',label='Forecast')\n",
    "plt.xticks(rotation='vertical')\n",
    "plt.legend()\n",
    "plt.show()"
   ]
  },
  {
   "cell_type": "code",
   "execution_count": null,
   "id": "890676c1",
   "metadata": {},
   "outputs": [],
   "source": [
    "ar_mape = mape(test, y_pred)\n",
    "print(f'Autogression: {ar_mape}%')"
   ]
  },
  {
   "cell_type": "markdown",
   "id": "6974e86e",
   "metadata": {},
   "source": [
    "## Moving Average"
   ]
  },
  {
   "cell_type": "code",
   "execution_count": null,
   "id": "8dc5879c",
   "metadata": {},
   "outputs": [],
   "source": [
    "y_pred = df_RM_429['SpringWheat'].copy()\n",
    "ma_window = 2\n",
    "y_pred = df_RM_429['SpringWheat'].rolling(ma_window).mean()\n",
    "y_pred[len(train):] = y_pred[len(train)-1]\n",
    "y_pred"
   ]
  },
  {
   "cell_type": "code",
   "execution_count": null,
   "id": "ceb3b39c",
   "metadata": {},
   "outputs": [],
   "source": [
    "plt.figure(figsize=(20,5))\n",
    "plt.grid()\n",
    "plt.plot(train, label='Train',color='blue')\n",
    "plt.plot(test, label='Test',color='red')\n",
    "plt.plot(y_pred, label='Forecast',color='green')\n",
    "plt.legend(loc='best')\n",
    "plt.title('Simple Moving Average Method')\n",
    "plt.show()"
   ]
  },
  {
   "cell_type": "code",
   "execution_count": null,
   "id": "545061f2",
   "metadata": {},
   "outputs": [],
   "source": [
    "ar_mape = mape(test, y_pred)\n",
    "print(f'Moving Average: {ar_mape}%')"
   ]
  }
 ],
 "metadata": {
  "kernelspec": {
   "display_name": "Python 3 (ipykernel)",
   "language": "python",
   "name": "python3"
  },
  "language_info": {
   "codemirror_mode": {
    "name": "ipython",
    "version": 3
   },
   "file_extension": ".py",
   "mimetype": "text/x-python",
   "name": "python",
   "nbconvert_exporter": "python",
   "pygments_lexer": "ipython3",
   "version": "3.9.13"
  }
 },
 "nbformat": 4,
 "nbformat_minor": 5
}
